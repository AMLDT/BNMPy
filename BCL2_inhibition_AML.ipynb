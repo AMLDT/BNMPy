{
 "cells": [
  {
   "cell_type": "markdown",
   "id": "64c9277a",
   "metadata": {},
   "source": [
    "# With the AML network, observe the effects of BCL2 inhibition on patient scores"
   ]
  },
  {
   "cell_type": "markdown",
   "id": "7ed564da",
   "metadata": {},
   "source": [
    "### Importing BMatrix, BooleanNetwork, and Clinical Data"
   ]
  },
  {
   "cell_type": "code",
   "execution_count": null,
   "id": "27a6fa08",
   "metadata": {},
   "outputs": [],
   "source": [
    "import pandas as pd\n",
    "import numpy as np\n",
    "import random\n",
    "import seaborn as sns\n",
    "import matplotlib.pyplot as plt\n",
    "\n",
    "# import booleanNetwork module from ./src\n",
    "import sys\n",
    "sys.path.append('./src/')\n",
    "import booleanNetwork as bn\n",
    "import BMatrix  \n",
    "\n",
    "drug_response_df = pd.read_excel(\"./input_files/drug_response_df.xlsx\",keep_default_na=False)"
   ]
  },
  {
   "cell_type": "code",
   "execution_count": null,
   "id": "6f9443b1",
   "metadata": {},
   "outputs": [],
   "source": [
    "drug_response_df"
   ]
  },
  {
   "cell_type": "markdown",
   "id": "f8dd998b",
   "metadata": {},
   "source": [
    "### Getting the variables needed for the simulation and calculation"
   ]
  },
  {
   "cell_type": "code",
   "execution_count": null,
   "id": "13393d66",
   "metadata": {},
   "outputs": [],
   "source": [
    "file = './input_files/fig3_AML_equations.txt'\n",
    "\n",
    "equations = BMatrix.get_equations(file)\n",
    "gene_dict = BMatrix.get_gene_dict(equations)\n",
    "upstream_genes = BMatrix.get_upstream_genes(equations)\n",
    "\n",
    "connectivity_matrix = BMatrix.get_connectivity_matrix(equations,upstream_genes,gene_dict)\n",
    "#print(connectivity_matrix)\n",
    "#print('\\n')\n",
    "\n",
    "truth_table = BMatrix.get_truth_table(equations,upstream_genes)\n",
    "#print(truth_table)\n",
    "\n",
    "ngenes= len(equations)"
   ]
  },
  {
   "cell_type": "code",
   "execution_count": null,
   "id": "73ecc336",
   "metadata": {},
   "outputs": [],
   "source": [
    "file_equations = './input_files/fig3_calculating_equations.txt'\n",
    "\n",
    "cal_equations = BMatrix.get_equations(file_equations)\n",
    "cal_upstream_genes = BMatrix.get_cal_upstream_genes(cal_equations)\n",
    "cal_functions = BMatrix.get_cal_functions(cal_equations)"
   ]
  },
  {
   "cell_type": "code",
   "execution_count": null,
   "id": "77ab2ea2",
   "metadata": {},
   "outputs": [],
   "source": [
    "mutation_dict = None\n",
    "\n",
    "file_perturbed = './input_files/perturbed_genes.txt'\n",
    "perturbed_dict = BMatrix.get_mutation_dict(file_perturbed)\n",
    "perturbed_genes = 'BCL2'"
   ]
  },
  {
   "cell_type": "markdown",
   "id": "184c0c3c",
   "metadata": {},
   "source": [
    "### Simulation of BCL2 inhibition"
   ]
  },
  {
   "cell_type": "code",
   "execution_count": null,
   "id": "56d43495",
   "metadata": {},
   "outputs": [],
   "source": [
    "all_profiles = np.array([[profile] for profile in drug_response_df['mutation_profiles']])"
   ]
  },
  {
   "cell_type": "code",
   "execution_count": null,
   "id": "89f1ea15",
   "metadata": {},
   "outputs": [],
   "source": [
    "before_inhibition = []\n",
    "networks = {}\n",
    "\n",
    "for i in range(len(all_profiles)): \n",
    "    profile = all_profiles[i,0] # Gets the profile as a string ex. 'FLT3'\n",
    "    print(profile)\n",
    "    \n",
    "    mutated_connectivity_matrix, x0 = BMatrix.get_knocking_genes(profile, mutation_dict, connectivity_matrix, gene_dict)\n",
    "\n",
    "    #making the networks and running the simulation\n",
    "    print('starting simulation')\n",
    "    network = bn.BooleanNetwork(ngenes, mutated_connectivity_matrix, truth_table, x0)\n",
    "    network_traj = network.update_noise(0.05, 200000)\n",
    "    \n",
    "    #calculating the scores  \n",
    "    print('getting final score')\n",
    "    cal_range = network_traj[-100000:]\n",
    "    \n",
    "    scores_dict, final_score = BMatrix.get_calculating_scores(network_traj, cal_functions, cal_upstream_genes, gene_dict, cal_range)\n",
    "\n",
    "    print(final_score)\n",
    "    \n",
    "    before_inhibition.append(final_score)\n",
    "    \n",
    "print(before_inhibition)"
   ]
  },
  {
   "cell_type": "code",
   "execution_count": null,
   "id": "f66a9481",
   "metadata": {},
   "outputs": [],
   "source": [
    "after_inhibition = []\n",
    "networks = {}\n",
    "\n",
    "for i in range(len(all_profiles)): \n",
    "    profile = all_profiles[i,0] # Gets the profile as a string ex. 'FLT3'\n",
    "    print(profile)\n",
    "    \n",
    "    mutated_connectivity_matrix, x0 = BMatrix.get_knocking_genes(profile, mutation_dict, connectivity_matrix, gene_dict, perturbed_genes, perturbed_dict)\n",
    "\n",
    "    #making the networks and running the simulation\n",
    "    print('starting simulation')\n",
    "    network = bn.BooleanNetwork(ngenes, mutated_connectivity_matrix, truth_table, x0)\n",
    "    network_traj = network.update_noise(0.05, 200000)\n",
    "    \n",
    "    #calculating the scores  \n",
    "    print('getting final score')\n",
    "    cal_range = network_traj[-100000:]\n",
    "    \n",
    "    scores_dict, final_score = BMatrix.get_calculating_scores(network_traj, cal_functions, cal_upstream_genes, gene_dict, cal_range)\n",
    "\n",
    "    print(final_score)\n",
    "    \n",
    "    after_inhibition.append(final_score)\n",
    "    \n",
    "print(after_inhibition)"
   ]
  },
  {
   "cell_type": "code",
   "execution_count": null,
   "id": "18ff33a9",
   "metadata": {},
   "outputs": [],
   "source": [
    "labId = drug_response_df['labId'][0:len(all_profiles)]\n",
    "\n",
    "scores_df = pd.DataFrame({\n",
    "    'labId': labId,\n",
    "    'no_inhibition_score': before_inhibition,\n",
    "    'BCL2_inhibition_score': after_inhibition\n",
    "})\n",
    "\n",
    "scores_df['score_diff'] = scores_df.apply(lambda x: x['no_inhibition_score'] - x['BCL2_inhibition_score'], axis=1) "
   ]
  },
  {
   "cell_type": "code",
   "execution_count": null,
   "id": "6ebf7852",
   "metadata": {},
   "outputs": [],
   "source": [
    "BCL2_inhibition_df = pd.merge(drug_response_df, scores_df, on='labId', how='outer')\n",
    "\n",
    "BCL2_inhibition_df"
   ]
  }
 ],
 "metadata": {
  "kernelspec": {
   "display_name": "Python 3 (ipykernel)",
   "language": "python",
   "name": "python3"
  },
  "language_info": {
   "codemirror_mode": {
    "name": "ipython",
    "version": 3
   },
   "file_extension": ".py",
   "mimetype": "text/x-python",
   "name": "python",
   "nbconvert_exporter": "python",
   "pygments_lexer": "ipython3",
   "version": "3.10.9"
  }
 },
 "nbformat": 4,
 "nbformat_minor": 5
}
