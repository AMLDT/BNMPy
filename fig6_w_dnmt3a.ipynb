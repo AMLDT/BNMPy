{
 "cells": [
  {
   "cell_type": "markdown",
   "id": "32bd4190",
   "metadata": {},
   "source": [
    "# Using the DNMT3A model and knocking in/out genes \n",
    "####  This runs the simulation for the DNMT3A model for all 8 profiles mentioned in Figure 6 within the Palma paper (made to be as similar to the r code dnmt3a_sim.R)"
   ]
  },
  {
   "cell_type": "markdown",
   "id": "6202a614",
   "metadata": {},
   "source": [
    "## Importing codes and preparing inputs for network and simulation"
   ]
  },
  {
   "cell_type": "markdown",
   "id": "264debc0",
   "metadata": {},
   "source": [
    "### Importing BMatrix and BooleanNetwork code"
   ]
  },
  {
   "cell_type": "code",
   "execution_count": 57,
   "id": "4764054b",
   "metadata": {},
   "outputs": [],
   "source": [
    "import pandas as pd\n",
    "import numpy as np\n",
    "import random\n",
    "import seaborn as sns\n",
    "import matplotlib.pyplot as plt\n",
    "\n",
    "# import booleanNetwork module from ./src\n",
    "import sys\n",
    "sys.path.append('C:/Users/15167/OneDrive/Documents/ISB/AML-DT-BNM/jupyter_notebook/Python/BooleanNetwork/')\n",
    "import booleanNetwork as bn\n",
    "import BMatrix  "
   ]
  },
  {
   "cell_type": "markdown",
   "id": "a6285de1",
   "metadata": {},
   "source": [
    "### Importing the patient data (using s5 for clinical data and using s7 for patient mutation profiles)"
   ]
  },
  {
   "cell_type": "code",
   "execution_count": 58,
   "id": "55fbf7a7",
   "metadata": {},
   "outputs": [],
   "source": [
    "# s7_data_combined has all the patient's mutation profiles\n",
    "s5_df = pd.read_excel(\"C:/Users/15167/OneDrive/Documents/ISB/AML-DT-BNM/raw_data/s5_table.xlsx\")\n",
    "\n",
    "s7_df = pd.read_excel(\"C:/Users/15167/OneDrive/Documents/ISB/AML-DT-BNM/raw_data/python_s7.xlsx\")\n",
    "mutation_profiles = s7_df['mutation_profiles'].values.reshape(-1, 1)\n",
    "#print(mutation_profiles)"
   ]
  },
  {
   "cell_type": "markdown",
   "id": "4814734d",
   "metadata": {},
   "source": [
    "### Getting the variables needed for the simulation (like varF and F)"
   ]
  },
  {
   "cell_type": "code",
   "execution_count": 59,
   "id": "332c05bd",
   "metadata": {},
   "outputs": [],
   "source": [
    "file = 'C:/Users/15167/OneDrive/Documents/ISB/dnmt3a_equations.txt' #does not have the equations at the end\n",
    "\n",
    "equations = BMatrix.getting_equations(file)\n",
    "gene_dict = BMatrix.gene_dictionary(equations)\n",
    "only_genes = BMatrix.getting_only_genes(equations)\n",
    "\n",
    "varF = BMatrix.connectivity_matrix(equations,only_genes,gene_dict)\n",
    "varF = np.array(varF)\n",
    "#print(varF)\n",
    "\n",
    "F = BMatrix.extracting_truth_table(equations,only_genes)\n",
    "F = np.array(F)\n",
    "#print(F)\n",
    "\n",
    "ngenes= len(equations)"
   ]
  },
  {
   "cell_type": "markdown",
   "id": "71e81529",
   "metadata": {},
   "source": [
    "### Preparing the variables needed for calculating the scores (after simulation)"
   ]
  },
  {
   "cell_type": "code",
   "execution_count": 60,
   "id": "ddb859fc",
   "metadata": {},
   "outputs": [],
   "source": [
    "file_equations = 'C:/Users/15167/OneDrive/Documents/ISB/calculating_equations.txt'\n",
    "\n",
    "equations = BMatrix.getting_equations(file_equations)\n",
    "cal_functions = BMatrix.calculating_functions(equations)\n",
    "cal_only_genes = BMatrix.calculating_only_genes(equations)"
   ]
  },
  {
   "cell_type": "markdown",
   "id": "0edb1331",
   "metadata": {},
   "source": [
    "### Cleaning up the s5 and s7 data and combining it into one merged_df\n",
    "#### Going to use the profiles I get from merged_df as the ones I use for the simulation"
   ]
  },
  {
   "cell_type": "code",
   "execution_count": 61,
   "id": "56c5b87a",
   "metadata": {},
   "outputs": [],
   "source": [
    "#merging together the s7_df and s5_df\n",
    "common = np.intersect1d(s5_df['labId'], s7_df['labId']) #getting the common labId labels \n",
    "s5_merged_df = s5_df[s5_df['labId'].isin(common)] \n",
    "s7_merged_df = s7_df[s7_df['labId'].isin(common)]\n",
    "\n",
    "s7_merged_df = (s7_merged_df.assign(mutation_profiles=s7_merged_df['mutation_profiles'].str.split(','))\n",
    "                               .explode('mutation_profiles')  #splitting the mutation_profile column\n",
    "                               .query('mutation_profiles in [\"DNMT3A\", \"FLT3\", \"NPM1\"]') #making anything that isn't DNMT3A, NPM1, FLT3 into NA\n",
    "                               .groupby('labId')['mutation_profiles'] #group mutation_profiles column by labId\n",
    "                               .apply(lambda x: ','.join(x)) #recombine so the NAs fall out of mutation_profiles\n",
    "                               .str.split(',') #split the mutation_profile columns again \n",
    "                               .apply(set) #get unique values only\n",
    "                               .str.join(',') #recombine\n",
    "                               .reset_index(name='mutation_profiles')) \n",
    "\n",
    "#now with the fixed s7_merged_df and the s5_merged_df, make a large merged_df with both mutation_profiles and BM and PB data\n",
    "merged_df = pd.merge(s7_merged_df, s5_merged_df, on='labId', how='outer')\n",
    "\n",
    "merged_df['mutation_profiles'].fillna('', inplace=True)\n",
    "\n",
    "#renaming the PB and BM columns \n",
    "merged_df = merged_df.rename(columns={\"%.Blasts.in.BM\": \"BM_Blast\", \n",
    "                                      \"%.Blasts.in.PB\": \"PB_Blast\"})\n",
    "\n",
    "#making sure PB and BM are numeric\n",
    "merged_df['BM_Blast'] = pd.to_numeric(merged_df['BM_Blast'], errors='coerce')\n",
    "merged_df['PB_Blast'] = pd.to_numeric(merged_df['PB_Blast'], errors='coerce')\n",
    "\n",
    "#replacing all the NAs in PB and BM columns\n",
    "merged_df['PB_Blast'] = merged_df['PB_Blast'].fillna(merged_df['PB_Blast'].mean())\n",
    "merged_df['BM_Blast'] = merged_df['BM_Blast'].fillna(merged_df['BM_Blast'].mean())"
   ]
  },
  {
   "cell_type": "markdown",
   "id": "b9018cc6",
   "metadata": {},
   "source": [
    "## Running the simulation for all the 8 profiles from merged_df and getting the final scores"
   ]
  },
  {
   "cell_type": "code",
   "execution_count": 62,
   "id": "4cf00d28",
   "metadata": {},
   "outputs": [],
   "source": [
    "all_profiles = np.array([[profile] for profile in merged_df['mutation_profiles'].unique()])"
   ]
  },
  {
   "cell_type": "code",
   "execution_count": 63,
   "id": "9e70dabd",
   "metadata": {},
   "outputs": [
    {
     "name": "stdout",
     "output_type": "stream",
     "text": [
      "['NPM1']\n",
      "finished calculating scores\n",
      "1.34464\n",
      "['FLT3', 'DNMT3A']\n",
      "finished calculating scores\n",
      "1.38642\n",
      "['FLT3']\n",
      "finished calculating scores\n",
      "1.35643\n",
      "['FLT3', 'NPM1']\n",
      "finished calculating scores\n",
      "1.73576\n",
      "['DNMT3A', 'NPM1']\n",
      "finished calculating scores\n",
      "1.73534\n",
      "['FLT3', 'DNMT3A', 'NPM1']\n",
      "finished calculating scores\n",
      "1.80046\n",
      "['DNMT3A']\n",
      "finished calculating scores\n",
      "1.33652\n",
      "['']\n",
      "no_mutation\n",
      "finished calculating scores\n",
      "1.16042\n",
      "{'NPM1': 1.34464, 'FLT3,DNMT3A': 1.38642, 'FLT3': 1.35643, 'FLT3,NPM1': 1.73576, 'NPM1,DNMT3A': 1.73534, 'FLT3,NPM1,DNMT3A': 1.80046, 'DNMT3A': 1.33652, '': 1.16042}\n"
     ]
    }
   ],
   "source": [
    "noise_level = 0.05  # noise\n",
    "\n",
    "mutations = {'FLT3': 1,\n",
    "             'NPM1': 1,\n",
    "             'DNMT3A': 0}\n",
    "\n",
    "final_scores = {}\n",
    "networks = {}\n",
    "\n",
    "for i in range(len(all_profiles)):     \n",
    "    \n",
    "    mutation_varF = varF.copy()  # Create a copy of varF for each iteration    \n",
    "    profile = all_profiles[i,0] # Gets the profile as a string ex. 'FLT3'\n",
    "    mutation_profile = list(set(profile.split(','))) #removes any repeat values \n",
    "    \n",
    "    print(mutation_profile)             \n",
    "\n",
    "    x0 = np.random.randint(2, size=ngenes)  # random initial state resets with every profile\n",
    "        \n",
    "    # make the mutation_varF rows in mutation_profile all -1 \n",
    "    for gene in mutation_profile:\n",
    "        if len(gene) == 0:\n",
    "            print('no_mutation')\n",
    "        else:\n",
    "            mutation_varF[[gene_dict[gene]], :] = -1  # knock the varF to -1\n",
    "            x0[gene_dict[gene]] = mutations[gene]  # setting that gene's value to mutation value\n",
    "                            \n",
    "    #making the networks and running the simulation\n",
    "    network = bn.BooleanNetwork(ngenes, mutation_varF, F, x0)\n",
    "    y = network.update_noise(noise_level, 200000)\n",
    "    \n",
    "    #calculating the scores  \n",
    "    y_range = y[-100000:]\n",
    "    scores_dict = BMatrix.calculating_scores(y, cal_functions, cal_only_genes, gene_dict, y_range) #gets the scores\n",
    "    \n",
    "    print('finished calculating scores')\n",
    "    \n",
    "    final_score = np.mean(scores_dict['Network'])\n",
    "    \n",
    "    print(final_score)\n",
    "    \n",
    "    final_scores.update({profile: final_score})\n",
    "    \n",
    "print(final_scores)"
   ]
  },
  {
   "cell_type": "markdown",
   "id": "0c47c9c8",
   "metadata": {},
   "source": [
    "## Creating the PB and BM dataframes for the scatterplots"
   ]
  },
  {
   "cell_type": "markdown",
   "id": "960e78cc",
   "metadata": {},
   "source": [
    "#### Grouping the patients with the same profiles together and getting their average scores"
   ]
  },
  {
   "cell_type": "code",
   "execution_count": 64,
   "id": "b9293032",
   "metadata": {},
   "outputs": [],
   "source": [
    "PB_Blast = []\n",
    "BM_Blast = []\n",
    "Network_Scores = []\n",
    "\n",
    "for i in range(len(all_profiles)):\n",
    "    mutation_group = all_profiles[i,0] # Gets the profile as a string ex. 'FLT3'\n",
    "\n",
    "    group_df = merged_df[merged_df['mutation_profiles'] == mutation_group]\n",
    "\n",
    "    #network scores\n",
    "    score = final_scores[mutation_group]\n",
    "    Network_Scores.append(score)\n",
    "    \n",
    "    #PB Blast\n",
    "    PB = group_df['PB_Blast'].mean()\n",
    "    PB_Blast.append(PB)\n",
    "    \n",
    "    #BM Blast\n",
    "    BM = group_df['BM_Blast'].mean()\n",
    "    BM_Blast.append(BM)\n"
   ]
  },
  {
   "cell_type": "markdown",
   "id": "0da593ef",
   "metadata": {},
   "source": [
    "#### Plotting the scatterplots"
   ]
  },
  {
   "cell_type": "code",
   "execution_count": 65,
   "id": "8b2d0e04",
   "metadata": {},
   "outputs": [
    {
     "data": {
      "image/png": "[encoded data removed]",
      "text/plain": [
       "<Figure size 640x480 with 1 Axes>"
      ]
     },
     "metadata": {},
     "output_type": "display_data"
    },
    {
     "data": {
      "image/png": "[encoded data removed]",
      "text/plain": [
       "<Figure size 640x480 with 1 Axes>"
      ]
     },
     "metadata": {},
     "output_type": "display_data"
    }
   ],
   "source": [
    "Mutation_Profiles = [profile for profile in merged_df['mutation_profiles'].unique()]\n",
    "\n",
    "PB_v_Network = pd.DataFrame({\n",
    "    'Mutation_Profiles': Mutation_Profiles,\n",
    "    'PB_Blast': PB_Blast,\n",
    "    'Network_Scores': Network_Scores\n",
    "})\n",
    "\n",
    "plt.scatter(PB_v_Network['PB_Blast'], PB_v_Network['Network_Scores'])\n",
    "\n",
    "for x, y, label in zip(PB_v_Network['PB_Blast'], PB_v_Network['Network_Scores'], PB_v_Network['Mutation_Profiles']):\n",
    "    plt.text(x, y, label, ha='right', va='bottom')\n",
    "\n",
    "plt.xlabel('PB Blast %')\n",
    "plt.ylabel('Network Score')\n",
    "plt.title('PB Blast % vs Network Score for Mutation Profiles')\n",
    "plt.show()\n",
    "\n",
    "\n",
    "\n",
    "BM_v_Network = pd.DataFrame({\n",
    "    'BM_Blast': BM_Blast,\n",
    "    'Network_Scores': Network_Scores,\n",
    "    'Mutation_Profiles': Mutation_Profiles  # Assuming Mutation_Profiles is a list\n",
    "})\n",
    "\n",
    "plt.scatter(BM_v_Network['BM_Blast'], BM_v_Network['Network_Scores'])\n",
    "\n",
    "for x, y, label in zip(BM_v_Network['BM_Blast'], BM_v_Network['Network_Scores'], BM_v_Network['Mutation_Profiles']):\n",
    "    plt.text(x, y, label, ha='right', va='bottom')\n",
    "\n",
    "plt.xlabel('BM Blast %')\n",
    "plt.ylabel('Network Score')\n",
    "plt.title('BM Blast % vs Network Score for Mutation Profiles')\n",
    "plt.show()\n"
   ]
  },
  {
   "cell_type": "markdown",
   "id": "57d19258",
   "metadata": {},
   "source": [
    "#### Performing the T-test"
   ]
  },
  {
   "cell_type": "code",
   "execution_count": 66,
   "id": "0f106ccb",
   "metadata": {},
   "outputs": [
    {
     "name": "stdout",
     "output_type": "stream",
     "text": [
      "T-test for PB vs Network:\n",
      "T-stat: 12.901480043825735\n",
      "p-value: 3.867149325813519e-06\n",
      "\n",
      "T-test for BM vs Network:\n",
      "T-stat: 15.215765233314272\n",
      "p-value: 1.263595337505105e-06\n"
     ]
    }
   ],
   "source": [
    "from scipy.stats import pearsonr\n",
    "from scipy.stats import ttest_ind\n",
    "\n",
    "# t test \n",
    "t_PB, p_PB = ttest_ind(PB_Blast, Network_Scores, equal_var=False)\n",
    "t_BM, p_BM = ttest_ind(BM_Blast, Network_Scores, equal_var=False)\n",
    "\n",
    "print(\"T-test for PB vs Network:\")\n",
    "print(\"T-stat:\", t_PB)\n",
    "print(\"p-value:\", p_PB)\n",
    "\n",
    "print(\"\\nT-test for BM vs Network:\")\n",
    "print(\"T-stat:\", t_BM)\n",
    "print(\"p-value:\", p_BM)"
   ]
  },
  {
   "cell_type": "markdown",
   "id": "17a2c037",
   "metadata": {},
   "source": [
    "#### Getting the pearson correlation"
   ]
  },
  {
   "cell_type": "code",
   "execution_count": 67,
   "id": "2183b4ca",
   "metadata": {},
   "outputs": [
    {
     "name": "stdout",
     "output_type": "stream",
     "text": [
      "\n",
      "Pearson correlation for PB vs Network: 0.45427398288034826\n",
      "Pearson correlation for BM vs Network: 0.6204871659818162\n"
     ]
    }
   ],
   "source": [
    "pearson_PB, _ = pearsonr(PB_Blast, Network_Scores)\n",
    "pearson_BM, _ = pearsonr(BM_Blast, Network_Scores)\n",
    "\n",
    "print(\"\\nPearson correlation for PB vs Network:\", pearson_PB)\n",
    "print(\"Pearson correlation for BM vs Network:\", pearson_BM)"
   ]
  },
  {
   "cell_type": "code",
   "execution_count": null,
   "id": "7578b2f9",
   "metadata": {},
   "outputs": [],
   "source": []
  }
 ],
 "metadata": {
  "kernelspec": {
   "display_name": "Python 3 (ipykernel)",
   "language": "python",
   "name": "python3"
  },
  "language_info": {
   "codemirror_mode": {
    "name": "ipython",
    "version": 3
   },
   "file_extension": ".py",
   "mimetype": "text/x-python",
   "name": "python",
   "nbconvert_exporter": "python",
   "pygments_lexer": "ipython3",
   "version": "3.10.9"
  }
 },
 "nbformat": 4,
 "nbformat_minor": 5
}
