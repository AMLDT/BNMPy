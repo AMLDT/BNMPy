{
 "cells": [
  {
   "cell_type": "code",
   "execution_count": 1,
   "id": "94d95684-a88b-495c-8818-7ce376b1824d",
   "metadata": {},
   "outputs": [],
   "source": [
    "import pandas as pd\n",
    "import numpy as np\n",
    "import random\n",
    "import seaborn as sns\n",
    "import matplotlib.pyplot as plt\n",
    "import sys\n",
    "# import booleanNetwork module from ./src\n",
    "from BNMPy import booleanNetwork as bn\n",
    "from BNMPy import BMatrix  "
   ]
  },
  {
   "cell_type": "code",
   "execution_count": 2,
   "id": "28b969e7-ce7c-47ab-b26e-f9b55aaaca7a",
   "metadata": {},
   "outputs": [],
   "source": [
    "file = 'input_files/dnmt3a_equations.txt'"
   ]
  },
  {
   "cell_type": "code",
   "execution_count": 3,
   "id": "c974fcb6-687d-40b6-b843-b047c8c81afb",
   "metadata": {},
   "outputs": [],
   "source": [
    "with open(file) as f:\n",
    "    file_data = f.read()"
   ]
  },
  {
   "cell_type": "code",
   "execution_count": 4,
   "id": "d1df5f23-1031-448a-a6e4-e91dbaa84191",
   "metadata": {},
   "outputs": [
    {
     "name": "stdout",
     "output_type": "stream",
     "text": [
      "No initial state provided, using a random initial state\n"
     ]
    }
   ],
   "source": [
    "network = BMatrix.load_network_from_string(file_data)"
   ]
  },
  {
   "cell_type": "code",
   "execution_count": 12,
   "id": "84dcff9b-2292-492c-951d-6025f26154a9",
   "metadata": {},
   "outputs": [],
   "source": [
    "# 3 inputs: FLT3, DNMT3A, NPM1\n",
    "# wild-type\n",
    "network.setInitialValue('FLT3', 0)\n",
    "network.setInitialValue('NPM1', 1)\n",
    "network.setInitialValue('DNMT3A', 1)\n",
    "results = network.update(20)\n",
    "results = results[-1, :]\n",
    "results = {k: results[v] for k, v in network.nodeDict.items()}"
   ]
  },
  {
   "cell_type": "code",
   "execution_count": 13,
   "id": "c031e97e-d626-42fa-8a51-32e298652a4f",
   "metadata": {},
   "outputs": [],
   "source": [
    "results['APOPTOSIS'] = results['TP53'] - results['BCL2']\n",
    "results['DIFFERENTIATION'] = results['CEBPA'] + results['ETV6'] - results['MEIS1']\n",
    "results['PROLIFERATION'] = results['MYC'] + results['CCND1'] + results['SOX4'] + results['MEIS1'] + results['STAT5A']\n",
    "\n",
    "# calculate the network scores\n",
    "results['NETWORK'] = results['PROLIFERATION'] - results['APOPTOSIS'] - results['DIFFERENTIATION']"
   ]
  },
  {
   "cell_type": "code",
   "execution_count": 14,
   "id": "6c017cbf-6010-4a87-9a45-7c516cee80d7",
   "metadata": {},
   "outputs": [
    {
     "name": "stdout",
     "output_type": "stream",
     "text": [
      "1 2 0 -3\n"
     ]
    }
   ],
   "source": [
    "print(results['APOPTOSIS'], results['DIFFERENTIATION'], results['PROLIFERATION'], results['NETWORK'])"
   ]
  },
  {
   "cell_type": "code",
   "execution_count": 17,
   "id": "9a71bc01-0f69-4bae-892d-3e81d28c3dfa",
   "metadata": {},
   "outputs": [],
   "source": [
    "network.knockout('FLT3', 1)"
   ]
  },
  {
   "cell_type": "code",
   "execution_count": 18,
   "id": "155dac6f-0057-4f13-840d-d470182c0304",
   "metadata": {},
   "outputs": [
    {
     "name": "stdout",
     "output_type": "stream",
     "text": [
      "1 0 2 1\n"
     ]
    }
   ],
   "source": [
    "results = network.update(20)\n",
    "results = results[-1, :]\n",
    "results = {k: results[v] for k, v in network.nodeDict.items()}\n",
    "results['APOPTOSIS'] = results['TP53'] - results['BCL2']\n",
    "results['DIFFERENTIATION'] = results['CEBPA'] + results['ETV6'] - results['MEIS1']\n",
    "results['PROLIFERATION'] = results['MYC'] + results['CCND1'] + results['SOX4'] + results['MEIS1'] + results['STAT5A']\n",
    "\n",
    "# calculate the network scores\n",
    "results['NETWORK'] = results['PROLIFERATION'] - results['APOPTOSIS'] - results['DIFFERENTIATION']\n",
    "print(results['APOPTOSIS'], results['DIFFERENTIATION'], results['PROLIFERATION'], results['NETWORK'])"
   ]
  },
  {
   "cell_type": "code",
   "execution_count": 20,
   "id": "1d73d0f1-36cd-43e9-9d53-871a1b01e5f6",
   "metadata": {},
   "outputs": [
    {
     "name": "stdout",
     "output_type": "stream",
     "text": [
      "0 1 1 0\n"
     ]
    }
   ],
   "source": [
    "network.undoKnockouts()\n",
    "network.setInitialValue('FLT3', 0)\n",
    "network.setInitialValue('NPM1', 1)\n",
    "network.setInitialValue('DNMT3A', 1)\n",
    "network.knockout('NPM1', 0)\n",
    "results = network.update(20)\n",
    "results = results[-1, :]\n",
    "results = {k: results[v] for k, v in network.nodeDict.items()}\n",
    "results['APOPTOSIS'] = results['TP53'] - results['BCL2']\n",
    "results['DIFFERENTIATION'] = results['CEBPA'] + results['ETV6'] - results['MEIS1']\n",
    "results['PROLIFERATION'] = results['MYC'] + results['CCND1'] + results['SOX4'] + results['MEIS1'] + results['STAT5A']\n",
    "\n",
    "# calculate the network scores\n",
    "results['NETWORK'] = results['PROLIFERATION'] - results['APOPTOSIS'] - results['DIFFERENTIATION']\n",
    "print(results['APOPTOSIS'], results['DIFFERENTIATION'], results['PROLIFERATION'], results['NETWORK'])"
   ]
  },
  {
   "cell_type": "code",
   "execution_count": null,
   "id": "10a049a8-5c7d-4654-abab-1241fb5e44b0",
   "metadata": {},
   "outputs": [],
   "source": []
  }
 ],
 "metadata": {
  "kernelspec": {
   "display_name": "Python 3 (ipykernel)",
   "language": "python",
   "name": "python3"
  },
  "language_info": {
   "codemirror_mode": {
    "name": "ipython",
    "version": 3
   },
   "file_extension": ".py",
   "mimetype": "text/x-python",
   "name": "python",
   "nbconvert_exporter": "python",
   "pygments_lexer": "ipython3",
   "version": "3.10.6"
  }
 },
 "nbformat": 4,
 "nbformat_minor": 5
}
