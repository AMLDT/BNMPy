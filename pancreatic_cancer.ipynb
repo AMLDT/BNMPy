{
 "cells": [
  {
   "cell_type": "markdown",
   "id": "bea94f52-3735-4e1a-a6c7-b832fe0a9047",
   "metadata": {},
   "source": [
    "# Pancreatic cancer"
   ]
  },
  {
   "cell_type": "code",
   "execution_count": 1,
   "id": "df35ee11-c299-46d3-b5f4-bfe8a16329a6",
   "metadata": {},
   "outputs": [],
   "source": [
    "import pandas as pd\n",
    "import numpy as np\n",
    "import random\n",
    "import seaborn as sns\n",
    "import matplotlib.pyplot as plt\n",
    "\n",
    "# import booleanNetwork module from ./src\n",
    "from BNMPy import booleanNetwork as bn\n",
    "from BNMPy import BMatrix  "
   ]
  },
  {
   "cell_type": "code",
   "execution_count": 23,
   "id": "41addb18-e052-4b9f-8f7a-4acebe045a31",
   "metadata": {},
   "outputs": [],
   "source": [
    "file = 'input_files/pancreatic_vundavilli_2020_fig3.txt'\n",
    "\n",
    "equations = BMatrix.get_equations(file)\n",
    "gene_dict = BMatrix.get_gene_dict(equations)\n",
    "upstream_genes = BMatrix.get_upstream_genes(equations)"
   ]
  },
  {
   "cell_type": "code",
   "execution_count": 24,
   "id": "21952092-1e84-4d19-bf50-fc08baba5ac4",
   "metadata": {},
   "outputs": [],
   "source": [
    "connectivity_matrix = BMatrix.get_connectivity_matrix(equations, upstream_genes, gene_dict)"
   ]
  },
  {
   "cell_type": "code",
   "execution_count": 25,
   "id": "7902036b-0ccf-488d-8f57-87d44907e9b4",
   "metadata": {},
   "outputs": [],
   "source": [
    "truth_table = BMatrix.get_truth_table(equations, upstream_genes)"
   ]
  },
  {
   "cell_type": "code",
   "execution_count": 27,
   "id": "b4646772-1a94-41e0-a452-f37dd1002334",
   "metadata": {},
   "outputs": [],
   "source": [
    "ngenes = len(equations)"
   ]
  },
  {
   "cell_type": "code",
   "execution_count": 28,
   "id": "a3852318-77e3-457a-b0a8-df436db234fe",
   "metadata": {},
   "outputs": [],
   "source": [
    "# initial state\n",
    "x0 = np.random.randint(2, size=ngenes) #random inital state \n",
    "x0 = np.array(x0)"
   ]
  },
  {
   "cell_type": "code",
   "execution_count": 29,
   "id": "148935b1-0303-4d92-a0c7-8eb1812eab2c",
   "metadata": {},
   "outputs": [
    {
     "name": "stdout",
     "output_type": "stream",
     "text": [
      "CPU times: user 6.98 s, sys: 0 ns, total: 6.98 s\n",
      "Wall time: 6.98 s\n"
     ]
    }
   ],
   "source": [
    "%%time\n",
    "\n",
    "network = bn.BooleanNetwork( ngenes , connectivity_matrix, truth_table, x0  ) # create a Boolean network object\n",
    "noise_level = 0.05 # noise\n",
    "y = network.update_noise ( noise_level  , 200000) # simulation with noise"
   ]
  },
  {
   "cell_type": "code",
   "execution_count": 31,
   "id": "916b3c5c-114b-4fd8-b2ec-b65dcccb7215",
   "metadata": {},
   "outputs": [
    {
     "data": {
      "text/plain": [
       "(200001, 38)"
      ]
     },
     "execution_count": 31,
     "metadata": {},
     "output_type": "execute_result"
    }
   ],
   "source": [
    "y.shape"
   ]
  },
  {
   "cell_type": "code",
   "execution_count": null,
   "id": "8df36561-a0a6-4625-9ab3-2559e5648b2f",
   "metadata": {},
   "outputs": [],
   "source": []
  }
 ],
 "metadata": {
  "kernelspec": {
   "display_name": "Python 3 (ipykernel)",
   "language": "python",
   "name": "python3"
  },
  "language_info": {
   "codemirror_mode": {
    "name": "ipython",
    "version": 3
   },
   "file_extension": ".py",
   "mimetype": "text/x-python",
   "name": "python",
   "nbconvert_exporter": "python",
   "pygments_lexer": "ipython3",
   "version": "3.10.6"
  },
  "widgets": {
   "application/vnd.jupyter.widget-state+json": {
    "state": {},
    "version_major": 2,
    "version_minor": 0
   }
  }
 },
 "nbformat": 4,
 "nbformat_minor": 5
}
