{
 "cells": [
  {
   "cell_type": "markdown",
   "id": "bea94f52-3735-4e1a-a6c7-b832fe0a9047",
   "metadata": {},
   "source": [
    "# Pancreatic cancer\n",
    "\n",
    "Model based on Vundavilli et al. 2020 https://ieeexplore.ieee.org/document/8476214"
   ]
  },
  {
   "cell_type": "code",
   "execution_count": 1,
   "id": "df35ee11-c299-46d3-b5f4-bfe8a16329a6",
   "metadata": {},
   "outputs": [],
   "source": [
    "import pandas as pd\n",
    "import numpy as np\n",
    "import random\n",
    "import seaborn as sns\n",
    "import matplotlib.pyplot as plt\n",
    "import sys\n",
    "# import booleanNetwork module from ./src\n",
    "from BNMPy import booleanNetwork as bn\n",
    "from BNMPy import BMatrix  "
   ]
  },
  {
   "cell_type": "markdown",
   "id": "9a74c275-7ccd-4145-a0c6-2fc88f5d63ce",
   "metadata": {},
   "source": [
    "## Loading the model"
   ]
  },
  {
   "cell_type": "code",
   "execution_count": null,
   "id": "41addb18-e052-4b9f-8f7a-4acebe045a31",
   "metadata": {},
   "outputs": [],
   "source": [
    "file = 'input_files/pancreatic_vundavilli_2020_fig3.txt' # Source from PMID: 30281473 DOI: 10.1109/TCBB.2018.2872573\n",
    "\n",
    "equations = BMatrix.get_equations(file)\n",
    "gene_dict = BMatrix.get_gene_dict(equations)\n",
    "upstream_genes = BMatrix.get_upstream_genes(equations)"
   ]
  },
  {
   "cell_type": "code",
   "execution_count": 6,
   "id": "21952092-1e84-4d19-bf50-fc08baba5ac4",
   "metadata": {},
   "outputs": [],
   "source": [
    "with open(file) as f:\n",
    "    file_data = f.read()"
   ]
  },
  {
   "cell_type": "code",
   "execution_count": 4,
   "id": "148935b1-0303-4d92-a0c7-8eb1812eab2c",
   "metadata": {},
   "outputs": [
    {
     "name": "stdout",
     "output_type": "stream",
     "text": [
      "No initial state provided, using a random initial state\n",
      "CPU times: user 98.9 ms, sys: 3 ms, total: 102 ms\n",
      "Wall time: 99.1 ms\n"
     ]
    }
   ],
   "source": [
    "%%time\n",
    "\n",
    "network = BMatrix.load_network_from_file(file)\n",
    " # create a Boolean network object\n",
    "noise_level = 0.05 # noise\n",
    "y = network.update_noise ( noise_level  , 2000) # simulation with noise"
   ]
  },
  {
   "cell_type": "code",
   "execution_count": 5,
   "id": "916b3c5c-114b-4fd8-b2ec-b65dcccb7215",
   "metadata": {},
   "outputs": [
    {
     "data": {
      "text/plain": [
       "(2001, 38)"
      ]
     },
     "execution_count": 5,
     "metadata": {},
     "output_type": "execute_result"
    }
   ],
   "source": [
    "y.shape"
   ]
  },
  {
   "cell_type": "code",
   "execution_count": 6,
   "id": "8df36561-a0a6-4625-9ab3-2559e5648b2f",
   "metadata": {},
   "outputs": [
    {
     "data": {
      "text/plain": [
       "array([[0, 0, 0, ..., 0, 1, 1],\n",
       "       [0, 0, 0, ..., 0, 1, 1],\n",
       "       [0, 0, 0, ..., 0, 1, 1],\n",
       "       ...,\n",
       "       [0, 0, 0, ..., 1, 1, 1],\n",
       "       [0, 0, 0, ..., 1, 1, 1],\n",
       "       [0, 0, 0, ..., 1, 1, 1]], dtype=int8)"
      ]
     },
     "execution_count": 6,
     "metadata": {},
     "output_type": "execute_result"
    }
   ],
   "source": [
    "y"
   ]
  },
  {
   "cell_type": "markdown",
   "id": "7e402d00-6191-40e7-820b-9daf1498aabc",
   "metadata": {},
   "source": [
    "## Replicating paper\n",
    "\n",
    "Input = [PTEN, LKB1, EGF, HBEGF, IGF, NRG1]\n",
    "\n",
    "Output = [CCND1, BCL2, SRF-ELK1, FOS-JUN, SRF-ELK4, SP1]\n",
    "\n",
    "If outputs are all 0, then this is a lack of cell proliferation and a non-suppression of apoptosis. A network without faults will produce a 0 output. However, a network with faults will produce a nonzero output vector, leading to a proliferative state.\n",
    "\n",
    "Drug = [Cryptotanshinone, LY294002, Temsirolimus, Lapatinib, HO-3867]\n",
    "\n",
    "Faults for every node/gene - they can be either stuck at 0 or stuck at 1.\n",
    "\n",
    "\"Size Difference\" metric = (differences/total entries)^2 (just the square of the hamming distance?)\n",
    "\n",
    "For each fault, and each drug, we calculate the output.\n",
    "\n",
    "I'm not sure what the input is used for these runs?"
   ]
  },
  {
   "cell_type": "code",
   "execution_count": 7,
   "id": "5a4f79ed-c70c-47d6-a982-9d3b9502d898",
   "metadata": {},
   "outputs": [],
   "source": [
    "input_genes = ['PTEN', 'LKB1', 'EGF', 'HBEGF', 'IGF', 'NRG1']\n",
    "output_genes = ['CCND1', 'BCL2', 'SRFELK1', 'FOS-JUN', 'SRFELK4', 'SP1']\n",
    "# stuck at 1 faults\n",
    "fault_genes_1 = set(['TSC1/2', 'BAD', 'GSK3'])\n",
    "# stuck at 0 faults\n",
    "fault_genes = [g for g in network.nodeDict.keys() if g not in input_genes and g not in output_genes]\n"
   ]
  },
  {
   "cell_type": "code",
   "execution_count": 8,
   "id": "6094b690-2f8d-4f1a-9daf-1cd23dfb5299",
   "metadata": {},
   "outputs": [],
   "source": [
    "# TODO: add faults/mutations?\n",
    "# for all inputs, \n",
    "# 1. set inputs\n",
    "network.setInitialValue('PTEN', 1)\n",
    "network.setInitialValue('LKB1', 1)\n",
    "network.setInitialValue('EGF', 0)\n",
    "network.setInitialValue('HBEGF', 0)\n",
    "network.setInitialValue('IGF', 0)\n",
    "network.setInitialValue('NRG1', 0)\n"
   ]
  },
  {
   "cell_type": "code",
   "execution_count": 9,
   "id": "813f3367-0648-4a9d-84f5-bd10e31055e1",
   "metadata": {},
   "outputs": [],
   "source": [
    "results = network.update(10)"
   ]
  },
  {
   "cell_type": "code",
   "execution_count": 10,
   "id": "3936887e-a2f0-43d2-ad18-6686c94f0d93",
   "metadata": {},
   "outputs": [],
   "source": [
    "output_baseline_results = [results[-1, network.nodeDict[k]] for k in output_genes]"
   ]
  },
  {
   "cell_type": "code",
   "execution_count": 11,
   "id": "11f0c6ed-f500-40a9-90df-3a578fe5a38b",
   "metadata": {},
   "outputs": [
    {
     "data": {
      "text/plain": [
       "[0, 0, 0, 0, 0, 0]"
      ]
     },
     "execution_count": 11,
     "metadata": {},
     "output_type": "execute_result"
    }
   ],
   "source": [
    "output_baseline_results"
   ]
  },
  {
   "cell_type": "markdown",
   "id": "7ec57b48-0d59-4de6-8704-10480c755322",
   "metadata": {},
   "source": [
    "The baseline results should be all 0s."
   ]
  },
  {
   "cell_type": "code",
   "execution_count": 33,
   "id": "ebe45bfe-4f80-4932-9fd4-40ad170f0ecd",
   "metadata": {
    "scrolled": true
   },
   "outputs": [
    {
     "name": "stdout",
     "output_type": "stream",
     "text": [
      "0 EGFR\n",
      "1 EFGR\n",
      "2 IGFR1A_B\n",
      "3 ERBB2\n",
      "4 JAK5\n",
      "5 STAT3\n",
      "6 IRS1\n",
      "7 GRB2\n",
      "8 RAS\n",
      "9 MEKK1\n",
      "10 RAF\n",
      "11 MKK4\n",
      "12 MEK1\n",
      "13 PIK3CA\n",
      "14 JNK1\n",
      "15 ERK1_2\n",
      "16 PIP3\n",
      "17 PDPK1\n",
      "18 AKT1\n",
      "19 AMPK\n",
      "20 GSK3\n",
      "21 TSC1_2\n",
      "22 RHEB\n",
      "23 mTOR\n",
      "24 RPS6KB1\n",
      "25 BAD\n"
     ]
    }
   ],
   "source": [
    "all_results = []\n",
    "for i, g1 in enumerate(fault_genes):\n",
    "    print(i, g1)\n",
    "    for j, g2 in enumerate(fault_genes[i+1:]):\n",
    "        for g in fault_genes[j+1:]:\n",
    "            network.undoKnockouts()\n",
    "            network.setInitialValue('PTEN', 1)\n",
    "            network.setInitialValue('LKB1', 1)\n",
    "            network.setInitialValue('EGF', 0)\n",
    "            network.setInitialValue('HBEGF', 0)\n",
    "            network.setInitialValue('IGF', 0)\n",
    "            network.setInitialValue('NRG1', 0)\n",
    "            if g in fault_genes_1:\n",
    "                network.knockout(g, 1)\n",
    "            else:\n",
    "                network.knockout(g, 0)\n",
    "            if g1 in fault_genes_1:\n",
    "                network.knockout(g1, 1)\n",
    "            else:\n",
    "                network.knockout(g1, 0)\n",
    "            if g2 in fault_genes_1:\n",
    "                network.knockout(g2, 1)\n",
    "            else:\n",
    "                network.knockout(g2, 0)\n",
    "            results = network.update(27)\n",
    "            output = [results[-1, network.nodeDict[k]] for k in output_genes]\n",
    "            all_results.append(output)\n",
    "            network.undoKnockouts()"
   ]
  },
  {
   "cell_type": "code",
   "execution_count": 34,
   "id": "2a8bf848-9bc8-41f8-8e0a-cd3341b1f38a",
   "metadata": {},
   "outputs": [],
   "source": [
    "all_results = np.array(all_results)"
   ]
  },
  {
   "cell_type": "code",
   "execution_count": 35,
   "id": "e7c472a5-1840-43b7-84a1-a3f60f11400c",
   "metadata": {},
   "outputs": [
    {
     "data": {
      "text/plain": [
       "array([0, 0, 0, 0, 0, 0])"
      ]
     },
     "execution_count": 35,
     "metadata": {},
     "output_type": "execute_result"
    }
   ],
   "source": [
    "all_results.sum(0)"
   ]
  },
  {
   "cell_type": "code",
   "execution_count": 13,
   "id": "9776b54b-ddde-4874-ae13-bb5ab8b511d7",
   "metadata": {},
   "outputs": [
    {
     "data": {
      "text/plain": [
       "[1, 0, 0, 0, 0, 0]"
      ]
     },
     "execution_count": 13,
     "metadata": {},
     "output_type": "execute_result"
    }
   ],
   "source": [
    "network.knockout('GSK3', 0)\n",
    "results = network.update(10)\n",
    "output = [results[-1, network.nodeDict[k]] for k in output_genes]\n",
    "output"
   ]
  },
  {
   "cell_type": "code",
   "execution_count": 32,
   "id": "0b69eb43-dfe6-487e-b4e2-1853b339d93f",
   "metadata": {},
   "outputs": [
    {
     "data": {
      "text/plain": [
       "[0, 0, 1, 0, 1, 1]"
      ]
     },
     "execution_count": 32,
     "metadata": {},
     "output_type": "execute_result"
    }
   ],
   "source": [
    "network.undoKnockouts()\n",
    "network.knockout('ERK1_2', 1)\n",
    "results = network.update(27)\n",
    "output = [results[-1, network.nodeDict[k]] for k in output_genes]\n",
    "output"
   ]
  },
  {
   "cell_type": "markdown",
   "id": "4d124fbd-2446-4c9a-8e4e-cfcefa65a94b",
   "metadata": {},
   "source": [
    "Note: I'm not sure I understand the paper, and I'm not sure if the paper does what I think it's doing. Most of the mutations are stuck at 0 mutations, and the outputs are mostly produced by AND gates, so most mutations will still leave the outputs at 0, same as the baseline/WT case. This seems to contradict what the paper shows, unless I'm misunderstanding things entirely?\n",
    "\n",
    "Is the \"size difference\" calculated over just the output nodes, or is it calculated over every node in the network? Also, "
   ]
  },
  {
   "cell_type": "code",
   "execution_count": null,
   "id": "604a5972-59eb-4529-bc23-8d2e9c2fe180",
   "metadata": {},
   "outputs": [],
   "source": []
  }
 ],
 "metadata": {
  "kernelspec": {
   "display_name": "3.10.0",
   "language": "python",
   "name": "python3"
  },
  "language_info": {
   "codemirror_mode": {
    "name": "ipython",
    "version": 3
   },
   "file_extension": ".py",
   "mimetype": "text/x-python",
   "name": "python",
   "nbconvert_exporter": "python",
   "pygments_lexer": "ipython3",
   "version": "3.10.0"
  },
  "widgets": {
   "application/vnd.jupyter.widget-state+json": {
    "state": {},
    "version_major": 2,
    "version_minor": 0
   }
  }
 },
 "nbformat": 4,
 "nbformat_minor": 5
}
