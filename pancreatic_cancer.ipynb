{
 "cells": [
  {
   "cell_type": "markdown",
   "id": "bea94f52-3735-4e1a-a6c7-b832fe0a9047",
   "metadata": {},
   "source": [
    "# Pancreatic cancer\n",
    "\n",
    "Model based on Vundavilli et al. 2020 https://ieeexplore.ieee.org/document/8476214"
   ]
  },
  {
   "cell_type": "code",
   "execution_count": 1,
   "id": "df35ee11-c299-46d3-b5f4-bfe8a16329a6",
   "metadata": {},
   "outputs": [],
   "source": [
    "import pandas as pd\n",
    "import numpy as np\n",
    "import random\n",
    "import seaborn as sns\n",
    "import matplotlib.pyplot as plt\n",
    "import sys\n",
    "# import booleanNetwork module from ./src\n",
    "from BNMPy import booleanNetwork as bn\n",
    "from BNMPy import BMatrix  "
   ]
  },
  {
   "cell_type": "markdown",
   "id": "9a74c275-7ccd-4145-a0c6-2fc88f5d63ce",
   "metadata": {},
   "source": [
    "## Loading the model"
   ]
  },
  {
   "cell_type": "code",
   "execution_count": 2,
   "id": "41addb18-e052-4b9f-8f7a-4acebe045a31",
   "metadata": {},
   "outputs": [],
   "source": [
    "file = 'input_files/pancreatic_vundavilli_2020_fig3.txt'"
   ]
  },
  {
   "cell_type": "code",
   "execution_count": 6,
   "id": "148935b1-0303-4d92-a0c7-8eb1812eab2c",
   "metadata": {},
   "outputs": [
    {
     "name": "stdout",
     "output_type": "stream",
     "text": [
      "No initial state provided, using a random initial state\n",
      "CPU times: user 8.68 s, sys: 0 ns, total: 8.68 s\n",
      "Wall time: 18.1 s\n"
     ]
    }
   ],
   "source": [
    "%%time\n",
    "\n",
    "network = BMatrix.load_network_from_file(file)\n",
    " # create a Boolean network object\n",
    "noise_level = 0.05 # noise\n",
    "y = network.update_noise ( noise_level  , 200000) # simulation with noise"
   ]
  },
  {
   "cell_type": "code",
   "execution_count": 4,
   "id": "916b3c5c-114b-4fd8-b2ec-b65dcccb7215",
   "metadata": {},
   "outputs": [
    {
     "data": {
      "text/plain": [
       "(200001, 38)"
      ]
     },
     "execution_count": 4,
     "metadata": {},
     "output_type": "execute_result"
    }
   ],
   "source": [
    "y.shape"
   ]
  },
  {
   "cell_type": "code",
   "execution_count": 5,
   "id": "8df36561-a0a6-4625-9ab3-2559e5648b2f",
   "metadata": {},
   "outputs": [
    {
     "data": {
      "text/plain": [
       "array([[0, 0, 0, ..., 0, 0, 0],\n",
       "       [0, 0, 1, ..., 0, 0, 0],\n",
       "       [0, 0, 1, ..., 0, 0, 0],\n",
       "       ...,\n",
       "       [1, 1, 1, ..., 1, 0, 1],\n",
       "       [1, 1, 1, ..., 1, 0, 0],\n",
       "       [1, 1, 1, ..., 1, 0, 1]], dtype=int8)"
      ]
     },
     "execution_count": 5,
     "metadata": {},
     "output_type": "execute_result"
    }
   ],
   "source": [
    "y"
   ]
  },
  {
   "cell_type": "markdown",
   "id": "7e402d00-6191-40e7-820b-9daf1498aabc",
   "metadata": {},
   "source": [
    "## Replicating paper\n",
    "\n",
    "Input = [PTEN, LKB1, EGF, HBEGF, IGF, NRG1]\n",
    "\n",
    "Output = [CCND1, BCL2, SRF-ELK1, FOS-JUN, SRF-ELK4, SP1]\n",
    "\n",
    "If outputs are all 0, then this is a lack of cell proliferation and a non-suppression of apoptosis. A network without faults will produce a 0 output. However, a network with faults will produce a nonzero output vector, leading to a proliferative state.\n",
    "\n",
    "Drug = [Cryptotanshinone, LY294002, Temsirolimus, Lapatinib, HO-3867]\n",
    "\n",
    "Faults for every node/gene - they can be either stuck at 0 or stuck at 1.\n",
    "\n",
    "\"Size Difference\" metric = (differences/total entries)^2 (just the square of the hamming distance?)\n",
    "\n",
    "For each fault, and each drug, we calculate the output.\n",
    "\n",
    "I'm not sure what the input is used for these runs?"
   ]
  },
  {
   "cell_type": "code",
   "execution_count": null,
   "id": "6094b690-2f8d-4f1a-9daf-1cd23dfb5299",
   "metadata": {},
   "outputs": [],
   "source": [
    "# TODO: add faults/mutations?"
   ]
  }
 ],
 "metadata": {
  "kernelspec": {
   "display_name": "Python 3 (ipykernel)",
   "language": "python",
   "name": "python3"
  },
  "language_info": {
   "codemirror_mode": {
    "name": "ipython",
    "version": 3
   },
   "file_extension": ".py",
   "mimetype": "text/x-python",
   "name": "python",
   "nbconvert_exporter": "python",
   "pygments_lexer": "ipython3",
   "version": "3.10.6"
  },
  "widgets": {
   "application/vnd.jupyter.widget-state+json": {
    "state": {},
    "version_major": 2,
    "version_minor": 0
   }
  }
 },
 "nbformat": 4,
 "nbformat_minor": 5
}
