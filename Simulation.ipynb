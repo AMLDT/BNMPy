{
 "cells": [
  {
   "cell_type": "code",
   "execution_count": 4,
   "metadata": {},
   "outputs": [],
   "source": [
    "import pandas as pd\n",
    "import numpy as np\n",
    "import random\n",
    "import seaborn as sns\n",
    "import matplotlib.pyplot as plt\n"
   ]
  },
  {
   "cell_type": "code",
   "execution_count": 6,
   "metadata": {},
   "outputs": [],
   "source": [
    "# Define the incoming nodes\n",
    "def dic_node_income(network):\n",
    "    dic_nodes_incoming = {}\n",
    "    for node in set(network['node2']):\n",
    "        dic_nodes_incoming[node] = {}\n",
    "        cur_df = network[network['node2'] == node]\n",
    "        for node_income in cur_df['node1']:\n",
    "            if cur_df[cur_df['node1'] == node_income]['Operation'].values[0] == 'activate':\n",
    "                dic_nodes_incoming[node][node_income] = \"activate\"\n",
    "            else:\n",
    "                dic_nodes_incoming[node][node_income] = \"inactivate\"\n",
    "\n",
    "    return dic_nodes_incoming\n",
    "\n"
   ]
  },
  {
   "cell_type": "code",
   "execution_count": 7,
   "metadata": {},
   "outputs": [],
   "source": [
    "def initial_model(all_nodes, initial_values):\n",
    "    # Initialize the model\n",
    "    model = {}\n",
    "    for i in range(0, len(all_nodes)):\n",
    "        model[list(all_nodes)[i]] = initial_values[i]\n",
    "\n",
    "    return model\n",
    "\n",
    "\n",
    "def node_update_rules_withoutNoise(init_cur_upstream_values, init_cur_operation):\n",
    "    '''\n",
    "    Example input:\n",
    "    init_cur_upstream_values = [True,False,False,True]\n",
    "    init_cur_operation = [\"activate\",\"activate\",\"activate\",'inactivate']    \n",
    "    '''\n",
    "    # get the index of the operation where the operation is activate\n",
    "    active_index = [i for i, x in enumerate(init_cur_operation) if x == \"activate\"]\n",
    "    inactive_index = [i for i, x in enumerate(init_cur_operation) if x == \"inactivate\"]\n",
    "\n",
    "    active_index\n",
    "    cur1 = True\n",
    "    for index in active_index:\n",
    "        cur1 = cur1 | init_cur_upstream_values[index]\n",
    "\n",
    "    cur2 = False\n",
    "    for index in inactive_index:\n",
    "        cur2 = cur2 | init_cur_upstream_values[index]\n",
    "\n",
    "    result = cur1 & (not cur2)\n",
    "    return result\n",
    "\n",
    "def node_update_rules(init_cur_upstream_values, init_cur_operation):\n",
    "    '''\n",
    "    Example input:\n",
    "    init_cur_upstream_values = [True,False,False,True]\n",
    "    init_cur_operation = [\"activate\",\"activate\",\"activate\",'inactivate']    \n",
    "    '''\n",
    "    # get the index of the operation where the operation is activate\n",
    "    active_index = [i for i, x in enumerate(init_cur_operation) if x == \"activate\"]\n",
    "    inactive_index = [i for i, x in enumerate(init_cur_operation) if x == \"inactivate\"]\n",
    "\n",
    "   \n",
    "    if len(active_index) > 0:\n",
    "        cur1 = False\n",
    "        for index in active_index:\n",
    "            cur1 = cur1 | init_cur_upstream_values[index]\n",
    "    else:\n",
    "        cur1 = False\n",
    "\n",
    "    if len(inactive_index) > 0:\n",
    "        cur2 = False\n",
    "        for index in inactive_index:\n",
    "            cur2 = cur2 | init_cur_upstream_values[index]\n",
    "    else:\n",
    "        cur2 = False\n",
    "\n",
    "    result = cur1 & (not cur2)\n",
    "    return result\n",
    "\n",
    "\n",
    "def model_update_withoutNoise(model_initial,dic_nodes_incoming, runs = 20):\n",
    "    # Update the model\n",
    "    model = model_initial.copy()\n",
    "    models = {}\n",
    "    for node in list(model_initial.keys()):\n",
    "            models[node] = [model[node]]\n",
    "\n",
    "    for run in range(0,runs):   \n",
    "        for cur_node in list(model_initial.keys()):\n",
    "            if cur_node in list(dic_nodes_incoming.keys()):\n",
    "                updstream_nodes =list(dic_nodes_incoming[cur_node].keys())\n",
    "                init_cur_upstream_values = []\n",
    "                init_cur_operation = []\n",
    "                for upstream_node in updstream_nodes:\n",
    "                    init_cur_upstream_values.append(model_initial[upstream_node])\n",
    "                    init_cur_operation.append(dic_nodes_incoming[cur_node][upstream_node])\n",
    "                cur_node_value = node_update_rules_withoutNoise(init_cur_upstream_values,init_cur_operation )\n",
    "                models[cur_node].append(cur_node_value)\n",
    "            else:\n",
    "                models[cur_node].append(model_initial[cur_node])\n",
    "\n",
    "    return models\n",
    "\n",
    "\n",
    "def model_update_withNoise(model_initial,dic_nodes_incoming, runs = 20):\n",
    "    # Update the model\n",
    "    model = model_initial.copy()\n",
    "    models = {}\n",
    "    \n",
    "    for node in list(model_initial.keys()):\n",
    "            models[node] = [model[node]]\n",
    "\n",
    "    for run in range(0,runs): \n",
    "        all_nodes = list(model_initial.keys())\n",
    "        noise = np.random.normal(0,1,len(all_nodes)) \n",
    "        n = 0\n",
    "        for cur_node in all_nodes:\n",
    "            n = n + 1\n",
    "            if noise[n-1] > 1:\n",
    "                models[cur_node].append( not(models[cur_node][run-1]))\n",
    "            else:\n",
    "                if cur_node in list(dic_nodes_incoming.keys()):\n",
    "                    updstream_nodes =list(dic_nodes_incoming[cur_node].keys())\n",
    "                    init_cur_upstream_values = []\n",
    "                    init_cur_operation = []\n",
    "                    for upstream_node in updstream_nodes:\n",
    "                        init_cur_upstream_values.append(model_initial[upstream_node])\n",
    "                        init_cur_operation.append(dic_nodes_incoming[cur_node][upstream_node])\n",
    "                    cur_node_value = node_update_rules_withoutNoise(init_cur_upstream_values,init_cur_operation )\n",
    "                    models[cur_node].append(cur_node_value)\n",
    "                else:\n",
    "                    models[cur_node].append(model_initial[cur_node])\n",
    "\n",
    "    return models\n",
    "\n",
    "\n",
    "def model_update_withNoise1(model_initial,dic_nodes_incoming, runs = 20):\n",
    "    # Update the model\n",
    "    model = model_initial.copy()\n",
    "    models = {}\n",
    "    for node in list(model_initial.keys()):\n",
    "            models[node] = [model[node]]\n",
    "\n",
    "    for run in range(0,runs): \n",
    "        all_nodes = list(model_initial.keys())\n",
    "        noise = np.random.normal(0,1,len(all_nodes)) \n",
    "        n = 0\n",
    "        for cur_node in all_nodes:\n",
    "            n = n + 1\n",
    "            \n",
    "            if cur_node in list(dic_nodes_incoming.keys()):\n",
    "                \n",
    "                updstream_nodes =list(dic_nodes_incoming[cur_node].keys())\n",
    "                init_cur_upstream_values = []\n",
    "                init_cur_operation = []\n",
    "                for upstream_node in updstream_nodes:\n",
    "                    init_cur_upstream_values.append(model_initial[upstream_node])\n",
    "                    init_cur_operation.append(dic_nodes_incoming[cur_node][upstream_node])\n",
    "                cur_node_value = node_update_rules_withoutNoise1(init_cur_upstream_values,init_cur_operation )\n",
    "                \n",
    "                if noise[n-1] > 0.5: # if noise is greater than 0.5, then flip the value\n",
    "                    models[cur_node].append(not(cur_node_value))\n",
    "                else:\n",
    "                    models[cur_node].append(cur_node_value)\n",
    "            else:\n",
    "                if noise[n-1] > 0.5:\n",
    "                    models[cur_node].append( not(models[cur_node][run-1]))\n",
    "                else:\n",
    "                    models[cur_node].append(models[cur_node][run-1])\n",
    "\n",
    "    return models"
   ]
  },
  {
   "cell_type": "code",
   "execution_count": 353,
   "metadata": {},
   "outputs": [
    {
     "name": "stdout",
     "output_type": "stream",
     "text": [
      "starting nodes:\n",
      "{'FLT3'}\n",
      "ending nodes:\n",
      "{'BCL2', 'ETV6', 'SOX4', 'CCND1', 'MEIS1'}\n",
      "all nodes:\n",
      "22\n"
     ]
    }
   ],
   "source": [
    "# Analyze the structure of the network\n",
    "# Load initial network data\n",
    "#network = pd.read_csv('FLT3_NPM1_DNMT3A_add.csv')\n",
    "#network = pd.read_csv('FLT3_NPM1_DNMT3A_model1.csv')\n",
    "\n",
    "#print(\"starting nodes:\")\n",
    "#print(set(network['node1']) - set(network['node2']))\n",
    "\n",
    "#print(\"ending nodes:\")\n",
    "#print(set(network['node2']) - set(network['node1']))\n",
    "\n",
    "#print(\"all nodes:\")\n",
    "#print(len(set(network['node1']) | set(network['node2'])))\n",
    "\n"
   ]
  },
  {
   "cell_type": "code",
   "execution_count": 8,
   "metadata": {},
   "outputs": [],
   "source": [
    "\n",
    "\n",
    "network = pd.DataFrame({\"1\":[\"X\",\"Y\",\"activate\"],\n",
    "                        \"2\":[\"X\",\"X\",\"activate\"],\n",
    "                        \"3\":[\"X\",\"Z\",\"activate\"],\n",
    "                        \"4\":[\"Y\",\"X\",\"activate\"],\n",
    "                        \"5\":[\"Y\",\"Y\",\"activate\"],\n",
    "                        \"6\":[\"Y\",\"Z\",\"inhibit\"],\n",
    "                        \"7\":[\"Z\",\"Z\",\"activate\"]\n",
    "})\n",
    "\n",
    "network = network.transpose()\n",
    "network.columns = [\"node1\",\"node2\",\"Operation\"]"
   ]
  },
  {
   "cell_type": "code",
   "execution_count": 9,
   "metadata": {},
   "outputs": [],
   "source": [
    "#network.to_csv(\"Example.csv\",index = False)"
   ]
  },
  {
   "cell_type": "code",
   "execution_count": 13,
   "metadata": {},
   "outputs": [
    {
     "name": "stdout",
     "output_type": "stream",
     "text": [
      "['Z', 'X', 'Y']\n",
      "[True, False, False]\n"
     ]
    }
   ],
   "source": [
    "all_nodes = list(set(network['node1']) | set(network['node2']))\n",
    "print(all_nodes)\n",
    "\n",
    "# random initial values\n",
    "initial_values = [random.choice([True,False]) for i in range(0,len(all_nodes))]\n",
    "curr_initial_values = initial_values.copy()\n",
    "print(curr_initial_values)\n",
    "#initial_values = curr_initial_values\n",
    "#initial_values = [True] * len(all_nodes)\n",
    "dic_nodes_incoming = dic_node_income(network)\n",
    "\n",
    "model_initial = initial_model(all_nodes=all_nodes, initial_values=initial_values)\n",
    "\n",
    "\n",
    "simulations = model_update_withNoise1(model_initial,dic_nodes_incoming, runs = 100000)\n",
    "#simulations = model_update_withNoise(model_initial,dic_nodes_incoming, runs = 100)\n",
    "\n",
    "# Convert the simulation results to dataframe so True will became 1 and False will became 0\n",
    "for node in simulations.keys():\n",
    "    simulations[node] = [int(x) for x in simulations[node]]\n",
    "simulations = pd.DataFrame(simulations)  \n",
    "\n",
    "# heatmap of the simulation results\n",
    "\n",
    "\n"
   ]
  },
  {
   "cell_type": "code",
   "execution_count": 14,
   "metadata": {},
   "outputs": [
    {
     "data": {
      "text/plain": [
       "[True, False, False]"
      ]
     },
     "execution_count": 14,
     "metadata": {},
     "output_type": "execute_result"
    }
   ],
   "source": [
    "initial_values"
   ]
  },
  {
   "cell_type": "code",
   "execution_count": 15,
   "metadata": {},
   "outputs": [
    {
     "data": {
      "image/png": "[encoded data removed]",
      "text/plain": [
       "<Figure size 1500x225 with 1 Axes>"
      ]
     },
     "metadata": {
      "needs_background": "light"
     },
     "output_type": "display_data"
    }
   ],
   "source": [
    "plt.figure(figsize=(10,1.5), dpi = 150)\n",
    "# heapmap without clustering\n",
    "#\n",
    "sns.heatmap(simulations.transpose().loc[['X','Y','Z'],:],cmap=\"YlGnBu\", cbar = False)\n",
    "plt.show()\n"
   ]
  },
  {
   "cell_type": "code",
   "execution_count": 16,
   "metadata": {},
   "outputs": [],
   "source": [
    "X1 = simulations.loc[simulations['X'] == 1,] \n",
    "X1Y1 = X1.loc[X1['Y'] == 1,]\n",
    "X1Y1Z1 = X1Y1.loc[X1Y1['Z'] == 1,]\n",
    "X1Y1Z0 = X1Y1.loc[X1Y1['Z'] == 0,]\n",
    "X1Y0 = X1.loc[X1['Y'] == 0,]\n",
    "X1Y0Z1 = X1Y0.loc[X1Y0['Z'] == 1,]\n",
    "X1Y0Z0 = X1Y0.loc[X1Y0['Z'] == 0,]\n",
    "X0 = simulations.loc[simulations['X'] == 0,]\n",
    "X0Y1 = X0.loc[X0['Y'] == 1,]\n",
    "X0Y1Z1 = X0Y1.loc[X0Y1['Z'] == 1,]\n",
    "X0Y1Z0 = X0Y1.loc[X0Y1['Z'] == 0,]\n",
    "X0Y0 = X0.loc[X0['Y'] == 0,]\n",
    "X0Y0Z1 = X0Y0.loc[X0Y0['Z'] == 1,]\n",
    "X0Y0Z0 = X0Y0.loc[X0Y0['Z'] == 0,]\n",
    "\n"
   ]
  },
  {
   "cell_type": "code",
   "execution_count": 17,
   "metadata": {},
   "outputs": [],
   "source": [
    "result_df = pd.DataFrame({\"state\":[\"X0Y0Z0\",\"X0Y0Z1\",\"X0Y1Z0\",\"X0Y1Z1\",\"X1Y0Z0\",\"X1Y0Z1\",\"X1Y1Z0\",\"X1Y1Z1\"],\n",
    "                         \"ratio\":[X0Y0Z0.shape[0]/simulations.shape[0], \n",
    " X0Y0Z1.shape[0]/simulations.shape[0], \n",
    " X0Y1Z0.shape[0]/simulations.shape[0],\n",
    " X0Y1Z1.shape[0]/simulations.shape[0], \n",
    " X1Y0Z0.shape[0]/simulations.shape[0],\n",
    " X1Y0Z1.shape[0]/simulations.shape[0], \n",
    " X1Y1Z0.shape[0]/simulations.shape[0], \n",
    " X1Y1Z1.shape[0]/simulations.shape[0]]})"
   ]
  },
  {
   "cell_type": "code",
   "execution_count": 18,
   "metadata": {},
   "outputs": [
    {
     "data": {
      "image/png": "[encoded data removed]",
      "text/plain": [
       "<Figure size 450x225 with 1 Axes>"
      ]
     },
     "metadata": {
      "needs_background": "light"
     },
     "output_type": "display_data"
    }
   ],
   "source": [
    "\n",
    "#barplot of result_df\n",
    "\n",
    "plt.figure(figsize=(3,1.5), dpi = 150)\n",
    "sns.barplot(x = \"state\", y = \"ratio\", data = result_df)\n",
    "plt.xticks(rotation = 90)\n",
    "plt.show()\n",
    "\n",
    "\n"
   ]
  }
 ],
 "metadata": {
  "kernelspec": {
   "display_name": "Python 3",
   "language": "python",
   "name": "python3"
  },
  "language_info": {
   "codemirror_mode": {
    "name": "ipython",
    "version": 3
   },
   "file_extension": ".py",
   "mimetype": "text/x-python",
   "name": "python",
   "nbconvert_exporter": "python",
   "pygments_lexer": "ipython3",
   "version": "3.10.0"
  },
  "orig_nbformat": 4
 },
 "nbformat": 4,
 "nbformat_minor": 2
}
