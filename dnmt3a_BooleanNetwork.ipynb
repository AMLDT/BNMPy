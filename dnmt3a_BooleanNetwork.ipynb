{
 "cells": [
  {
   "cell_type": "markdown",
   "id": "2ffa6874-f912-4cb3-8ced-519a630937e3",
   "metadata": {},
   "source": [
    "# DNMT3A Subgroup Relative Error Plots for Convergence\n",
    "***\n",
    "### Runs the DNMT3A subgroup simulation. Then it calculates the apoptosis, proliferation, differentiation, and network scores to create the relative error plots for each example "
   ]
  },
  {
   "cell_type": "markdown",
   "id": "03233215",
   "metadata": {},
   "source": [
    "### Importing the BMatrix and BooleanNetwork code"
   ]
  },
  {
   "cell_type": "code",
   "execution_count": null,
   "id": "9da417fd-f9a6-43b1-b337-a335b8e65d9d",
   "metadata": {
    "scrolled": false
   },
   "outputs": [],
   "source": [
    "import pandas as pd\n",
    "import numpy as np\n",
    "import random\n",
    "import seaborn as sns\n",
    "import matplotlib.pyplot as plt\n",
    "\n",
    "# import booleanNetwork module from ./src\n",
    "import sys\n",
    "sys.path.append('C:/Users/15167/OneDrive/Documents/ISB/AML-DT-BNM/jupyter_notebook/Python/BooleanNetwork/')\n",
    "import booleanNetwork as bn\n",
    "import BMatrix "
   ]
  },
  {
   "cell_type": "markdown",
   "id": "ac0776e9",
   "metadata": {},
   "source": [
    "### Creating the variables for the simulation + calculation"
   ]
  },
  {
   "cell_type": "code",
   "execution_count": null,
   "id": "d53ba5a9",
   "metadata": {
    "scrolled": false
   },
   "outputs": [],
   "source": [
    "sim_equations_file = 'C:/Users/15167/OneDrive/Documents/ISB/AML-DT-BNM/BN_equations/dnmt3a_equations.txt' #does not have the equations at the end\n",
    "\n",
    "equations = BMatrix.get_equations(sim_equations_file)\n",
    "gene_dict = BMatrix.get_gene_dict(equations)\n",
    "upstream_genes = BMatrix.get_upstream_genes(equations)\n",
    "\n",
    "connectivity_matrix = BMatrix.get_connectivity_matrix(equations,upstream_genes,gene_dict)\n",
    "connectivity_matrix = np.array(connectivity_matrix)\n",
    "#print(connectivity_matrix)\n",
    "\n",
    "truth_table = BMatrix.get_truth_table(equations, upstream_genes)\n",
    "truth_table = np.array(truth_table)\n",
    "#print(truth_table)\n",
    "\n",
    "ngenes= len(equations)\n",
    "\n",
    "x0 = np.random.randint(2, size=ngenes) #random inital state \n",
    "x0 = np.array(x0)\n",
    "#print(x0)\n",
    "\n",
    "calculating_file = 'C:/Users/15167/OneDrive/Documents/ISB/AML-DT-BNM/BN_equations/calculating_equations.txt'\n",
    "\n",
    "cal_equations = BMatrix.get_equations(calculating_file) \n",
    "cal_upstream_genes = BMatrix.get_cal_upstream_genes(cal_equations)\n",
    "cal_functions = BMatrix.get_cal_functions(cal_equations)"
   ]
  },
  {
   "cell_type": "code",
   "execution_count": null,
   "id": "f6937134",
   "metadata": {},
   "outputs": [],
   "source": [
    "connectivity_matrix"
   ]
  },
  {
   "cell_type": "markdown",
   "id": "d659e200-e4ee-4c92-98f8-eb0f329b5619",
   "metadata": {},
   "source": [
    "## Testing different amount of steps and noise with relative error"
   ]
  },
  {
   "cell_type": "markdown",
   "id": "59c6a32c",
   "metadata": {},
   "source": [
    "### Original (0.05 noise and 200,000 steps)"
   ]
  },
  {
   "cell_type": "code",
   "execution_count": null,
   "id": "d0bd3233",
   "metadata": {
    "scrolled": false
   },
   "outputs": [],
   "source": [
    "%%time\n",
    "\n",
    "network = bn.BooleanNetwork( ngenes , connectivity_matrix, truth_table, x0  ) # create a Boolean network object\n",
    "noise_level = 0.05 # noise\n",
    "network_traj = network.update_noise ( noise_level  , 200000) # simulation with noise"
   ]
  },
  {
   "cell_type": "code",
   "execution_count": null,
   "id": "c763a67d",
   "metadata": {
    "scrolled": false
   },
   "outputs": [],
   "source": [
    "%%time\n",
    "\n",
    "cal_range = network_traj \n",
    "scores_dict, final_score = BMatrix. get_calculating_scores(network_traj, cal_functions, cal_upstream_genes, gene_dict,cal_range)"
   ]
  },
  {
   "cell_type": "code",
   "execution_count": null,
   "id": "6add85a7",
   "metadata": {
    "scrolled": false
   },
   "outputs": [],
   "source": [
    "#getting the relative error points to see if the score converges\n",
    "Apoptosis_scores = scores_dict['Apoptosis']\n",
    "Differentiation_scores = scores_dict['Differentiation']\n",
    "Proliferation_scores = scores_dict['Proliferation']\n",
    "Network_scores = scores_dict['Network']\n",
    "\n",
    "scores = [Apoptosis_scores, Differentiation_scores, Proliferation_scores, Network_scores]\n",
    "time_points = [1000, 2000, 4000, 8000, 16000, 32000, 64000, 100000, 200000]\n",
    "\n",
    "plot_title = {0:'Apoptosis_scores',\n",
    "              1:'Differentation_scores',\n",
    "              2: 'Proliferation_scores',\n",
    "              3: 'Network_scores'}\n",
    "\n",
    "#print(plot_title)\n",
    "#print(time_points)\n",
    "\n",
    "for i in range(len(scores)): #for apop, diff, prolif, or final\n",
    "    values = [] \n",
    "    relative_error = [] #reset the values\n",
    "    score = scores[i]\n",
    "    \n",
    "    title = plot_title[i]\n",
    "    #print(title)\n",
    "    \n",
    "    for i in range(len(time_points)): #for all time points\n",
    "        point = time_points[i]\n",
    "        half = (time_points[i])//2\n",
    "        start_index = slice(0,half) #so for i=1, this is 1:500\n",
    "        end_index = slice(half,point) #if i=1, this is 500:1000\n",
    "        \n",
    "        point = (abs((np.mean(score[start_index])) - (np.mean(score[end_index]))))/(np.mean(score[start_index]))\n",
    "        \n",
    "        values.append(point)\n",
    "    \n",
    "    relative_error = [np.round(value, decimals=4) for value in values]\n",
    "    #print(relative_error)  \n",
    "    \n",
    "    plot = pd.DataFrame({'time_points': time_points, 'relative_error': relative_error})\n",
    "    plt.scatter(plot['time_points'], plot['relative_error'])\n",
    "    plt.xlabel('Time Points')\n",
    "    plt.ylabel('Relative Error')\n",
    "    plt.title('Relative Error for ' + title)\n",
    "    plt.ylim(0, 0.1)\n",
    "    plt.show()"
   ]
  },
  {
   "cell_type": "markdown",
   "id": "cc3e8c53",
   "metadata": {},
   "source": [
    "### Less noise (0.01 noise and 200,000 steps)"
   ]
  },
  {
   "cell_type": "code",
   "execution_count": null,
   "id": "f36a3452-ad5c-48f9-8e41-cf745c166e62",
   "metadata": {
    "scrolled": false
   },
   "outputs": [],
   "source": [
    "%%time\n",
    "\n",
    "network = bn.BooleanNetwork( ngenes , connectivity_matrix, truth_table, x0  ) # create a Boolean network object\n",
    "noise_level = 0.01 # noise\n",
    "network_traj = network.update_noise ( noise_level  , 200000) # simulation with noise"
   ]
  },
  {
   "cell_type": "code",
   "execution_count": null,
   "id": "50d59d67",
   "metadata": {
    "scrolled": false
   },
   "outputs": [],
   "source": [
    "%%time\n",
    "\n",
    "cal_range = network_traj \n",
    "scores_dict, final_score = BMatrix. get_calculating_scores(network_traj, cal_functions, cal_upstream_genes, gene_dict,cal_range)"
   ]
  },
  {
   "cell_type": "code",
   "execution_count": null,
   "id": "0c9e1931",
   "metadata": {
    "scrolled": false
   },
   "outputs": [],
   "source": [
    "#getting the relative error points to see if the score converges\n",
    "Apoptosis_scores = scores_dict['Apoptosis']\n",
    "Differentiation_scores = scores_dict['Differentiation']\n",
    "Proliferation_scores = scores_dict['Proliferation']\n",
    "Network_scores = scores_dict['Network']\n",
    "\n",
    "scores = [Apoptosis_scores, Differentiation_scores, Proliferation_scores, Network_scores]\n",
    "time_points = [1000, 2000, 4000, 8000, 16000, 32000, 64000, 100000, 200000]\n",
    "\n",
    "plot_title = {0:'Apoptosis_scores',\n",
    "              1:'Differentation_scores',\n",
    "              2: 'Proliferation_scores',\n",
    "              3: 'Network_scores'}\n",
    "\n",
    "#print(plot_title)\n",
    "#print(time_points)\n",
    "\n",
    "for i in range(len(scores)): #for apop, diff, prolif, or final\n",
    "    values = [] \n",
    "    relative_error = [] #reset the values\n",
    "    score = scores[i]\n",
    "    \n",
    "    title = plot_title[i]\n",
    "    #print(title)\n",
    "    \n",
    "    for i in range(len(time_points)): #for all time points\n",
    "        point = time_points[i]\n",
    "        half = (time_points[i])//2\n",
    "        start_index = slice(0,half) #so for i=1, this is 1:500\n",
    "        end_index = slice(half,point) #if i=1, this is 500:1000\n",
    "        \n",
    "        point = (abs((np.mean(score[start_index])) - (np.mean(score[end_index]))))/(np.mean(score[start_index]))\n",
    "        \n",
    "        values.append(point)\n",
    "    \n",
    "    relative_error = [np.round(value, decimals=4) for value in values]\n",
    "    #print(relative_error)  \n",
    "    \n",
    "    plot = pd.DataFrame({'time_points': time_points, 'relative_error': relative_error})\n",
    "    plt.scatter(plot['time_points'], plot['relative_error'])\n",
    "    plt.xlabel('Time Points')\n",
    "    plt.ylabel('Relative Error')\n",
    "    plt.title('Relative Error for ' + title)\n",
    "    plt.ylim(0, 0.1)\n",
    "    plt.show()"
   ]
  },
  {
   "cell_type": "markdown",
   "id": "5be366f8",
   "metadata": {},
   "source": [
    "### Less steps (0.05 noise and 100,000 steps)"
   ]
  },
  {
   "cell_type": "code",
   "execution_count": null,
   "id": "70fab578",
   "metadata": {
    "scrolled": false
   },
   "outputs": [],
   "source": [
    "%%time\n",
    "\n",
    "network = bn.BooleanNetwork( ngenes , connectivity_matrix, truth_table, x0  ) # create a Boolean network object\n",
    "noise_level = 0.05 # noise\n",
    "network_traj = network.update_noise ( noise_level  , 100000) # simulation with noise"
   ]
  },
  {
   "cell_type": "code",
   "execution_count": null,
   "id": "e385d1b1",
   "metadata": {
    "scrolled": false
   },
   "outputs": [],
   "source": [
    "%%time\n",
    "\n",
    "cal_range = network_traj #all of the y values (for relative error plot)\n",
    "scores_dict, final_score = BMatrix. get_calculating_scores(network_traj, cal_functions, cal_upstream_genes, gene_dict,cal_range)"
   ]
  },
  {
   "cell_type": "code",
   "execution_count": null,
   "id": "3857dc22",
   "metadata": {
    "scrolled": false
   },
   "outputs": [],
   "source": [
    "#getting the relative error points to see if the score converges\n",
    "Apoptosis_scores = scores_dict['Apoptosis']\n",
    "Differentiation_scores = scores_dict['Differentiation']\n",
    "Proliferation_scores = scores_dict['Proliferation']\n",
    "Network_scores = scores_dict['Network']\n",
    "\n",
    "scores = [Apoptosis_scores, Differentiation_scores, Proliferation_scores, Network_scores]\n",
    "time_points = [1000, 2000, 4000, 8000, 16000, 32000, 64000, 100000]\n",
    "\n",
    "plot_title = {0:'Apoptosis_scores',\n",
    "              1:'Differentation_scores',\n",
    "              2: 'Proliferation_scores',\n",
    "              3: 'Network_scores'}\n",
    "\n",
    "#print(plot_title)\n",
    "#print(time_points)\n",
    "\n",
    "for i in range(len(scores)): #for apop, diff, prolif, or final\n",
    "    values = [] \n",
    "    relative_error = [] #reset the values\n",
    "    score = scores[i]\n",
    "    \n",
    "    title = plot_title[i]\n",
    "    #print(title)\n",
    "    \n",
    "    for i in range(len(time_points)): #for all time points\n",
    "        point = time_points[i]\n",
    "        half = (time_points[i])//2\n",
    "        start_index = slice(0,half) #so for i=1, this is 1:500\n",
    "        end_index = slice(half,point) #if i=1, this is 500:1000\n",
    "        \n",
    "        point = (abs((np.mean(score[start_index])) - (np.mean(score[end_index]))))/(np.mean(score[start_index]))\n",
    "        \n",
    "        values.append(point)\n",
    "    \n",
    "    relative_error = [np.round(value, decimals=4) for value in values]\n",
    "    #print(relative_error)  \n",
    "    \n",
    "    plot = pd.DataFrame({'time_points': time_points, 'relative_error': relative_error})\n",
    "    plt.scatter(plot['time_points'], plot['relative_error'])\n",
    "    plt.xlabel('Time Points')\n",
    "    plt.ylabel('Relative Error')\n",
    "    plt.title('Relative Error for ' + title)\n",
    "    plt.ylim(0, 0.1)\n",
    "    plt.show()"
   ]
  },
  {
   "cell_type": "markdown",
   "id": "6f5b89bf",
   "metadata": {},
   "source": [
    "### Less of both (0.01 noise and 100,000 steps)"
   ]
  },
  {
   "cell_type": "code",
   "execution_count": null,
   "id": "0b05c256",
   "metadata": {
    "scrolled": false
   },
   "outputs": [],
   "source": [
    "%%time\n",
    "\n",
    "network = bn.BooleanNetwork( ngenes , connectivity_matrix, truth_table, x0  ) # create a Boolean network object\n",
    "noise_level = 0.01 # noise\n",
    "network_traj = network.update_noise ( noise_level  , 100000) # simulation with noise"
   ]
  },
  {
   "cell_type": "code",
   "execution_count": null,
   "id": "3a102642",
   "metadata": {
    "scrolled": false
   },
   "outputs": [],
   "source": [
    "%%time\n",
    "\n",
    "cal_range = network_traj #all of the y values (for relative error plot)\n",
    "scores_dict, final_score = BMatrix. get_calculating_scores(network_traj, cal_functions, cal_upstream_genes, gene_dict,cal_range)"
   ]
  },
  {
   "cell_type": "code",
   "execution_count": null,
   "id": "cde45baf",
   "metadata": {
    "scrolled": false
   },
   "outputs": [],
   "source": [
    "#getting the relative error points to see if the score converges\n",
    "Apoptosis_scores = scores_dict['Apoptosis']\n",
    "Differentiation_scores = scores_dict['Differentiation']\n",
    "Proliferation_scores = scores_dict['Proliferation']\n",
    "Network_scores = scores_dict['Network']\n",
    "\n",
    "scores = [Apoptosis_scores, Differentiation_scores, Proliferation_scores, Network_scores]\n",
    "time_points = [1000, 2000, 4000, 8000, 16000, 32000, 64000, 100000]\n",
    "\n",
    "plot_title = {0:'Apoptosis_scores',\n",
    "              1:'Differentation_scores',\n",
    "              2: 'Proliferation_scores',\n",
    "              3: 'Network_scores'}\n",
    "\n",
    "#print(plot_title)\n",
    "#print(time_points)\n",
    "\n",
    "for i in range(len(scores)): #for apop, diff, prolif, or final\n",
    "    values = [] \n",
    "    relative_error = [] #reset the values\n",
    "    score = scores[i]\n",
    "    \n",
    "    title = plot_title[i]\n",
    "    #print(title)\n",
    "    \n",
    "    for i in range(len(time_points)): #for all time points\n",
    "        point = time_points[i]\n",
    "        half = (time_points[i])//2\n",
    "        start_index = slice(0,half) #so for i=1, this is 1:500\n",
    "        end_index = slice(half,point) #if i=1, this is 500:1000\n",
    "        \n",
    "        point = (abs((np.mean(score[start_index])) - (np.mean(score[end_index]))))/(np.mean(score[start_index]))\n",
    "        \n",
    "        values.append(point)\n",
    "    \n",
    "    relative_error = [np.round(value, decimals=4) for value in values]\n",
    "    #print(relative_error)  \n",
    "    \n",
    "    plot = pd.DataFrame({'time_points': time_points, 'relative_error': relative_error})\n",
    "    plt.scatter(plot['time_points'], plot['relative_error'])\n",
    "    plt.xlabel('Time Points')\n",
    "    plt.ylabel('Relative Error')\n",
    "    plt.title('Relative Error for ' + title)\n",
    "    plt.ylim(0, 0.1)\n",
    "    plt.show()"
   ]
  }
 ],
 "metadata": {
  "environment": {
   "kernel": "python3",
   "name": "common-cpu.m109",
   "type": "gcloud",
   "uri": "gcr.io/deeplearning-platform-release/base-cpu:m109"
  },
  "kernelspec": {
   "display_name": "Python 3 (ipykernel)",
   "language": "python",
   "name": "python3"
  },
  "language_info": {
   "codemirror_mode": {
    "name": "ipython",
    "version": 3
   },
   "file_extension": ".py",
   "mimetype": "text/x-python",
   "name": "python",
   "nbconvert_exporter": "python",
   "pygments_lexer": "ipython3",
   "version": "3.10.9"
  }
 },
 "nbformat": 4,
 "nbformat_minor": 5
}
