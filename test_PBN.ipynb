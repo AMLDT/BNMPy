{
 "cells": [
  {
   "cell_type": "markdown",
   "id": "2ffa6874-f912-4cb3-8ced-519a630937e3",
   "metadata": {},
   "source": [
    "# This is a tutorial to run a simulation of a simple Probabilistic Boolean Network\n"
   ]
  },
  {
   "cell_type": "code",
   "execution_count": 1,
   "id": "9da417fd-f9a6-43b1-b337-a335b8e65d9d",
   "metadata": {},
   "outputs": [],
   "source": [
    "import pandas as pd\n",
    "import numpy as np\n",
    "import random\n",
    "import seaborn as sns\n",
    "import matplotlib.pyplot as plt\n",
    "\n",
    "# import booleanNetwork module from ./src\n",
    "import sys\n",
    "sys.path.append('./src')\n",
    "from BNMPy import booleanNetwork as bn\n",
    "from BNMPy import PBN as pbn\n",
    "from BNMPy import BMatrix"
   ]
  },
  {
   "cell_type": "markdown",
   "id": "e17e5ed6-8636-489e-b718-637a9fde0dfa",
   "metadata": {},
   "source": [
    "## Define a Probabilistic Boolean Network"
   ]
  },
  {
   "cell_type": "code",
   "execution_count": 22,
   "id": "7bf0ff49-0128-4357-92cc-225d7c6c699d",
   "metadata": {},
   "outputs": [],
   "source": [
    "# Probabilistic Boolean Network from :\n",
    "#https://academic.oup.com/bioinformatics/article-pdf/18/2/261/48850623/bioinformatics_18_2_261.pdf\n",
    "\n",
    "# number of nodes\n",
    "ngenes = 3\n",
    "\n",
    "# number of functions per node\n",
    "nf = np.array( [2, 1, 2] ) \n",
    "\n",
    "\n",
    "# conectivity matrix\n",
    "varF = np.array( [[0, 1, 2],  # indices of genes connected to gene 0\n",
    "                  [0, 1, 2],  \n",
    "                  [0, 1, 2], # indices of genes connected to gene 1\n",
    "                  [0, 1, 2],\n",
    "                  [0, 1, 2]] ) # indices of genes connected to gene 2\n",
    "\n",
    "# truth tables\n",
    "F = np.array( [[0, 1, 1, 1, 0, 1, 1, 1], # truth table for gene 0 \n",
    "               [0, 1, 1, 0, 0, 1, 1, 1], \n",
    "               [0, 1, 1, 0, 1, 1, 0, 1], # truth table for gene 1\n",
    "               [0, 0, 0, 1, 0, 1, 1, 1], # truth table for gene 2\n",
    "               [0, 0, 0, 0, 0, 0, 0, 1] ]) \n",
    "\n",
    "# probabilities of selecting functions per node\n",
    "cij = np.array([ [0.6, 0.4,-1], \n",
    "                 [1.0,-1,-1],\n",
    "                 [0.5, 0.5,-1] ] )\n",
    "\n",
    "# initial state\n",
    "x0  =  np.array( [0, 1, 1] )  # initial state [v0, v1, v2] "
   ]
  },
  {
   "cell_type": "code",
   "execution_count": 23,
   "id": "d3e403e4-ea7e-4316-b894-cf1dad078d1e",
   "metadata": {},
   "outputs": [],
   "source": [
    "network = pbn.ProbabilisticBN( ngenes, varF, nf, F, cij, x0  ) # create a PBN object"
   ]
  },
  {
   "cell_type": "markdown",
   "id": "974481dc",
   "metadata": {},
   "source": [
    "### Alternatively, load a PBN from a file\n"
   ]
  },
  {
   "cell_type": "code",
   "execution_count": 21,
   "id": "37f003cd",
   "metadata": {},
   "outputs": [],
   "source": [
    "x0  =  np.array( [0, 1, 1] )  # initial state [v0, v1, v2] \n",
    "network = BMatrix.load_pbn_from_file(\"./input_files/examplePBN.txt\", initial_state = x0)"
   ]
  },
  {
   "cell_type": "markdown",
   "id": "a4c8361e",
   "metadata": {},
   "source": [
    "### ... or from a string"
   ]
  },
  {
   "cell_type": "code",
   "execution_count": 31,
   "id": "c2485e7d",
   "metadata": {},
   "outputs": [],
   "source": [
    "network_string = \"\"\"\n",
    "x1 = (x1 | x2 | x3) & (!x1 | x2 | x3), 0.6\n",
    "x1 = (x1 | x2 | x3) & (x1 | !x2 | !x3) & (!x1 | x2 | x3), 0.4\n",
    "x2 = (x1 | x2 | x3) & (x1 | !x2 | !x3) & (!x1 | !x2 | x3), 1\n",
    "x3 = (!x1 & x2 & x3) | (x1 & !x2 & x3) | (x1 & x2 & !x3) | (x1 & x2 & x3), 0.5\n",
    "x3 = (x1 & x2 & x3), 0.5\n",
    "\"\"\"\n",
    "x0  =  np.array( [0, 1, 1] )  # initial state [v0, v1, v2] \n",
    "network = BMatrix.load_pbn_from_string(network_string, initial_state = x0)"
   ]
  },
  {
   "cell_type": "markdown",
   "id": "ed4d5faf-c10d-489a-b55b-3fb48d1a9673",
   "metadata": {},
   "source": [
    "## Run 3 steps of simulations of PBNs"
   ]
  },
  {
   "cell_type": "code",
   "execution_count": 33,
   "id": "066843d6-64d1-4d0e-a53a-ef25c82f6676",
   "metadata": {},
   "outputs": [
    {
     "data": {
      "text/plain": [
       "array([[1, 0, 1],\n",
       "       [1, 1, 0],\n",
       "       [1, 0, 1],\n",
       "       [1, 1, 1]], dtype=int8)"
      ]
     },
     "execution_count": 33,
     "metadata": {},
     "output_type": "execute_result"
    }
   ],
   "source": [
    "y = network.update( 3 )  # run 3 steps of the Probabilistic Boolean network\n",
    "y"
   ]
  },
  {
   "cell_type": "markdown",
   "id": "fb7bac58-3a13-4a6b-aacc-c90d79b2fd49",
   "metadata": {},
   "source": [
    "## Run 3 steps of simulations of PBNs with noise"
   ]
  },
  {
   "cell_type": "code",
   "execution_count": 34,
   "id": "2de21005-0310-4f64-9ed4-f698fe53df64",
   "metadata": {},
   "outputs": [],
   "source": [
    "network = pbn.ProbabilisticBN( ngenes, varF, nf, F, cij, x0  ) # create a PBN object"
   ]
  },
  {
   "cell_type": "code",
   "execution_count": 37,
   "id": "443cd0bb-6327-4efb-ae10-2c2495d51359",
   "metadata": {},
   "outputs": [
    {
     "data": {
      "text/plain": [
       "array([[1, 0, 0],\n",
       "       [0, 1, 0],\n",
       "       [1, 1, 0],\n",
       "       [1, 0, 0]], dtype=int8)"
      ]
     },
     "execution_count": 37,
     "metadata": {},
     "output_type": "execute_result"
    }
   ],
   "source": [
    "noise_level = 0.01 # noise\n",
    "y = network.update_noise( noise_level,  3 )  # run 3 steps of the Probabilistic Boolean network\n",
    "y"
   ]
  },
  {
   "cell_type": "markdown",
   "id": "192359ef",
   "metadata": {},
   "source": [
    "# Define mutations \n",
    "## in files/strings for PBNs\n",
    "\n",
    "If an equation is a constant value (0 or 1), meaning that the gene is set as mutated/perturbed, the code will set the gene's value to the constant value."
   ]
  },
  {
   "cell_type": "code",
   "execution_count": 7,
   "id": "24c49a7b-1be3-48e5-bde6-f42b30f79ff6",
   "metadata": {},
   "outputs": [
    {
     "data": {
      "text/plain": [
       "array([[0, 0, 1],\n",
       "       [1, 1, 0],\n",
       "       [1, 0, 1],\n",
       "       [1, 1, 1]], dtype=int8)"
      ]
     },
     "execution_count": 7,
     "metadata": {},
     "output_type": "execute_result"
    }
   ],
   "source": [
    "# This was the original network\n",
    "network_string = \"\"\"\n",
    "x1 = (x1 | x2 | x3) & (!x1 | x2 | x3), 0.6\n",
    "x1 = (x1 | x2 | x3) & (x1 | !x2 | !x3) & (!x1 | x2 | x3), 0.4\n",
    "x2 = (x1 | x2 | x3) & (x1 | !x2 | !x3) & (!x1 | !x2 | x3), 1\n",
    "x3 = (!x1 & x2 & x3) | (x1 & !x2 & x3) | (x1 & x2 & !x3) | (x1 & x2 & x3), 0.5\n",
    "x3 = (x1 & x2 & x3), 0.5\n",
    "\"\"\"\n",
    "x0  =  np.array( [0, 0, 1] )  # initial state [v0, v1, v2] \n",
    "network = BMatrix.load_pbn_from_string(network_string, initial_state = x0)\n",
    "network.update(3)\n"
   ]
  },
  {
   "cell_type": "code",
   "execution_count": 10,
   "id": "197d9b7f",
   "metadata": {},
   "outputs": [
    {
     "data": {
      "text/plain": [
       "array([[0, 0, 1],\n",
       "       [0, 1, 0],\n",
       "       [0, 1, 0],\n",
       "       [0, 1, 0]], dtype=int8)"
      ]
     },
     "execution_count": 10,
     "metadata": {},
     "output_type": "execute_result"
    }
   ],
   "source": [
    "# Now we set the first gene to 0 constant\n",
    "network_string = \"\"\"\n",
    "x1 = 0, 1\n",
    "x2 = (x1 | x2 | x3) & (x1 | !x2 | !x3) & (!x1 | !x2 | x3), 1\n",
    "x3 = (!x1 & x2 & x3) | (x1 & !x2 & x3) | (x1 & x2 & !x3) | (x1 & x2 & x3), 0.5\n",
    "x3 = (x1 & x2 & x3), 0.5\n",
    "\"\"\"\n",
    "x0  =  np.array( [0, 0, 1] )  # initial state [v0, v1, v2] \n",
    "network = BMatrix.load_pbn_from_string(network_string, initial_state = x0)\n",
    "network.update(3)"
   ]
  },
  {
   "cell_type": "code",
   "execution_count": 5,
   "id": "468f3832",
   "metadata": {},
   "outputs": [
    {
     "data": {
      "text/plain": [
       "array([[0, 0, 1],\n",
       "       [0, 1, 0],\n",
       "       [0, 1, 0],\n",
       "       [0, 1, 0]], dtype=int8)"
      ]
     },
     "execution_count": 5,
     "metadata": {},
     "output_type": "execute_result"
    }
   ],
   "source": [
    "# the ',1' can be omitted if there is a single function for that gene\n",
    "network_string = \"\"\"\n",
    "x1 = 0\n",
    "x2 = (x1 | x2 | x3) & (x1 | !x2 | !x3) & (!x1 | !x2 | x3)\n",
    "x3 = (!x1 & x2 & x3) | (x1 & !x2 & x3) | (x1 & x2 & !x3) | (x1 & x2 & x3), 0.5\n",
    "x3 = (x1 & x2 & x3), 0.5\n",
    "\"\"\"\n",
    "x0  =  np.array( [0, 0, 1] )  # initial state [v0, v1, v2] \n",
    "network = BMatrix.load_pbn_from_string(network_string, initial_state = x0)\n",
    "network.update(3)"
   ]
  },
  {
   "cell_type": "code",
   "execution_count": 14,
   "id": "15c76422",
   "metadata": {},
   "outputs": [
    {
     "data": {
      "text/plain": [
       "array([[1, 0, 1],\n",
       "       [0, 1, 1],\n",
       "       [1, 0, 0],\n",
       "       [1, 1, 0],\n",
       "       [1, 0, 0],\n",
       "       [0, 1, 0],\n",
       "       [0, 1, 0],\n",
       "       [1, 1, 0],\n",
       "       [1, 0, 0],\n",
       "       [0, 1, 0],\n",
       "       [1, 1, 0]], dtype=int8)"
      ]
     },
     "execution_count": 14,
     "metadata": {},
     "output_type": "execute_result"
    }
   ],
   "source": [
    "# the constant value can also come with a probability\n",
    "network_string = \"\"\"\n",
    "x1 = 0, 0.5\n",
    "x1 = 1, 0.5\n",
    "x2 = (x1 | x2 | x3) & (x1 | !x2 | !x3) & (!x1 | !x2 | x3), 1\n",
    "x3 = (!x1 & x2 & x3) | (x1 & !x2 & x3) | (x1 & x2 & !x3) | (x1 & x2 & x3), 0.5\n",
    "x3 = (x1 & x2 & x3), 0.5\n",
    "\"\"\"\n",
    "x0  =  np.array( [0, 0, 1] )  # initial state [v0, v1, v2] \n",
    "network = BMatrix.load_pbn_from_string(network_string, initial_state = x0)\n",
    "network.update(10)"
   ]
  },
  {
   "cell_type": "markdown",
   "id": "c260c654",
   "metadata": {},
   "source": [
    "## Mutations: update with noise"
   ]
  },
  {
   "cell_type": "code",
   "execution_count": 14,
   "id": "08a03e79",
   "metadata": {},
   "outputs": [
    {
     "data": {
      "text/plain": [
       "array([[0, 0, 1],\n",
       "       [0, 1, 0],\n",
       "       [0, 1, 0],\n",
       "       [0, 0, 0],\n",
       "       [1, 0, 0],\n",
       "       [1, 0, 1],\n",
       "       [1, 0, 0],\n",
       "       [0, 1, 0],\n",
       "       [0, 1, 0],\n",
       "       [0, 0, 0],\n",
       "       [1, 0, 0]], dtype=int8)"
      ]
     },
     "execution_count": 14,
     "metadata": {},
     "output_type": "execute_result"
    }
   ],
   "source": [
    "# this was the previous behavior\n",
    "# where the noise was applied to all nodes\n",
    "network_string = \"\"\"\n",
    "x1 = 0, 1\n",
    "x2 = (x1 | x2 | x3) & (x1 | !x2 | !x3) & (!x1 | !x2 | x3), 1\n",
    "x3 = (!x1 & x2 & x3) | (x1 & !x2 & x3) | (x1 & x2 & !x3) | (x1 & x2 & x3), 0.5\n",
    "x3 = (x1 & x2 & x3), 0.5\n",
    "\"\"\"\n",
    "x0  =  np.array( [0, 0, 1] )  # initial state [v0, v1, v2] \n",
    "network = BMatrix.load_pbn_from_string(network_string, initial_state = x0)\n",
    "\n",
    "# run with noise\n",
    "network.update_noise(0.2, 10)"
   ]
  },
  {
   "cell_type": "code",
   "execution_count": 3,
   "id": "58d5f14d",
   "metadata": {},
   "outputs": [
    {
     "data": {
      "text/plain": [
       "array([[0, 0, 1],\n",
       "       [0, 0, 0],\n",
       "       [0, 0, 0],\n",
       "       [0, 1, 1],\n",
       "       [0, 0, 0],\n",
       "       [0, 0, 0],\n",
       "       [0, 1, 1],\n",
       "       [0, 1, 0],\n",
       "       [0, 0, 0],\n",
       "       [0, 0, 0],\n",
       "       [0, 1, 1]], dtype=int8)"
      ]
     },
     "execution_count": 3,
     "metadata": {},
     "output_type": "execute_result"
    }
   ],
   "source": [
    "# This is after adding a mask to update_noise\n",
    "network_string = \"\"\"\n",
    "x1 = 0, 1\n",
    "x2 = (x1 | x2 | x3) & (x1 | !x2 | !x3) & (!x1 | !x2 | x3), 1\n",
    "x3 = (!x1 & x2 & x3) | (x1 & !x2 & x3) | (x1 & x2 & !x3) | (x1 & x2 & x3), 0.5\n",
    "x3 = (x1 & x2 & x3), 0.5\n",
    "\"\"\"\n",
    "x0  =  np.array( [0, 0, 1] )  # initial state [v0, v1, v2] \n",
    "network = BMatrix.load_pbn_from_string(network_string, initial_state = x0)\n",
    "\n",
    "# run with noise\n",
    "network.update_noise(0.5, 10)"
   ]
  },
  {
   "cell_type": "markdown",
   "id": "ad375383",
   "metadata": {},
   "source": [
    "## The knockout function"
   ]
  },
  {
   "cell_type": "code",
   "execution_count": 2,
   "id": "f2df86ab",
   "metadata": {},
   "outputs": [
    {
     "data": {
      "text/plain": [
       "{'x1': 0, 'x2': 1, 'x3': 2}"
      ]
     },
     "execution_count": 2,
     "metadata": {},
     "output_type": "execute_result"
    }
   ],
   "source": [
    "# This was the original network\n",
    "network_string = \"\"\"\n",
    "x1 = (x1 | x2 | x3) & (!x1 | x2 | x3), 0.6\n",
    "x1 = (x1 | x2 | x3) & (x1 | !x2 | !x3) & (!x1 | x2 | x3), 0.4\n",
    "x2 = (x1 | x2 | x3) & (x1 | !x2 | !x3) & (!x1 | !x2 | x3), 1\n",
    "x3 = (!x1 & x2 & x3) | (x1 & !x2 & x3) | (x1 & x2 & !x3) | (x1 & x2 & x3), 0.5\n",
    "x3 = (x1 & x2 & x3), 0.5\n",
    "\"\"\"\n",
    "x0  =  np.array( [0, 0, 1] )  # initial state [v0, v1, v2] \n",
    "network = BMatrix.load_pbn_from_string(network_string, initial_state = x0)\n",
    "network.nodeDict\n"
   ]
  },
  {
   "cell_type": "code",
   "execution_count": 3,
   "id": "9983b75a",
   "metadata": {},
   "outputs": [
    {
     "data": {
      "text/plain": [
       "array([[0, 0, 1],\n",
       "       [1, 0, 0],\n",
       "       [0, 1, 0],\n",
       "       [0, 0, 1],\n",
       "       [1, 1, 0],\n",
       "       [1, 1, 1],\n",
       "       [1, 1, 1],\n",
       "       [1, 1, 1],\n",
       "       [1, 1, 1],\n",
       "       [1, 1, 1],\n",
       "       [1, 1, 1]], dtype=int8)"
      ]
     },
     "execution_count": 3,
     "metadata": {},
     "output_type": "execute_result"
    }
   ],
   "source": [
    "# simulate with noise \n",
    "network.update_noise(0.2, 10)"
   ]
  },
  {
   "cell_type": "code",
   "execution_count": 4,
   "id": "d87ae247",
   "metadata": {},
   "outputs": [
    {
     "data": {
      "text/plain": [
       "array([[0, 1, 1],\n",
       "       [0, 1, 0],\n",
       "       [0, 1, 1],\n",
       "       [0, 0, 0],\n",
       "       [0, 0, 0],\n",
       "       [0, 0, 0],\n",
       "       [0, 0, 0],\n",
       "       [0, 0, 0],\n",
       "       [0, 1, 0],\n",
       "       [0, 1, 1],\n",
       "       [0, 0, 0]], dtype=int8)"
      ]
     },
     "execution_count": 4,
     "metadata": {},
     "output_type": "execute_result"
    }
   ],
   "source": [
    "# # Knockout the first gene\n",
    "network.knockout('x1',0)\n",
    "network.update_noise(0.2, 10)"
   ]
  },
  {
   "cell_type": "markdown",
   "id": "ab1a2c18",
   "metadata": {},
   "source": [
    "## Simulating a large network\n",
    "### prob = 1 are not the same as BN\n",
    "\n",
    "The BN and PBN implementations produce different results even with identical seeds and probability values due to structural differences in their internal representations:   \n",
    "\n",
    "- BN uses direct 1:1 mapping between nodes and functions.\n",
    "- PBN uses a more complex indexing through a cumulative sum array to handle multiple potential functions per node.   \n",
    "\n",
    "These differences affect how random number generators advance through their sequence and how node updates propagate through the network. As iterations progress, these small implementation differences compound through the network's state transitions.\n"
   ]
  },
  {
   "cell_type": "code",
   "execution_count": 2,
   "id": "e95179df",
   "metadata": {},
   "outputs": [
    {
     "data": {
      "text/plain": [
       "array([0.49074, 0.49652, 0.50636, 0.49204, 0.50324, 0.50672, 0.4913 ,\n",
       "       0.63718, 0.4994 , 0.5017 , 0.49868, 0.50172, 0.50878, 0.7579 ,\n",
       "       0.76436, 0.7481 , 0.75808, 0.75256, 0.7574 , 0.77318, 0.76048,\n",
       "       0.76068, 0.77096, 0.77406, 0.77258, 0.49926, 0.23248, 0.51414,\n",
       "       0.48428, 0.4886 , 0.77936, 0.21964, 0.7764 , 0.49294, 0.76522,\n",
       "       0.75   , 0.76072, 0.76448])"
      ]
     },
     "execution_count": 2,
     "metadata": {},
     "output_type": "execute_result"
    }
   ],
   "source": [
    "# Results for BN\n",
    "file = 'input_files/pancreatic_vundavilli_2020_fig3.txt'\n",
    "x0 = np.zeros(38, dtype=np.int8)\n",
    "step = 100000\n",
    "network = BMatrix.load_network_from_file(file, initial_state = x0)\n",
    "np.random.seed(99)\n",
    "network_traj = network.update_noise(0.05, step)\n",
    "cal_range = network_traj[step//2:step]\n",
    "average_array = np.mean(cal_range, axis=0)\n",
    "average_array"
   ]
  },
  {
   "cell_type": "code",
   "execution_count": 3,
   "id": "786edcfe",
   "metadata": {},
   "outputs": [
    {
     "data": {
      "text/plain": [
       "array([0.49074, 0.49652, 0.50636, 0.49204, 0.50324, 0.50672, 0.4913 ,\n",
       "       0.63718, 0.4994 , 0.5017 , 0.49338, 0.50288, 0.49978, 0.76184,\n",
       "       0.6493 , 0.58178, 0.5766 , 0.5608 , 0.54482, 0.77734, 0.53624,\n",
       "       0.53194, 0.7241 , 0.62952, 0.62856, 0.49926, 0.4195 , 0.60764,\n",
       "       0.43294, 0.46618, 0.74138, 0.26864, 0.5425 , 0.41902, 0.43786,\n",
       "       0.43758, 0.44528, 0.5157 ])"
      ]
     },
     "execution_count": 3,
     "metadata": {},
     "output_type": "execute_result"
    }
   ],
   "source": [
    "# Create a PBN version of the same network by adding probability 1 to each function\n",
    "pbn_string = \"\"\n",
    "with open(file, 'r') as f:\n",
    "    for line in f:\n",
    "        line = line.strip()\n",
    "        if line:  # Skip empty lines\n",
    "            pbn_string += line + \", 1\\n\"\n",
    "\n",
    "# Initialize the PBN with the same initial state\n",
    "pbn_network = BMatrix.load_pbn_from_string(pbn_string, initial_state=x0)\n",
    "np.random.seed(99)\n",
    "pbn_traj = pbn_network.update_noise(0.05, step)\n",
    "pbn_cal_range = pbn_traj[step//2:step]\n",
    "pbn_average_array = np.mean(pbn_cal_range, axis=0)\n",
    "pbn_average_array"
   ]
  },
  {
   "cell_type": "markdown",
   "id": "3b3d4fc9",
   "metadata": {},
   "source": []
  }
 ],
 "metadata": {
  "environment": {
   "kernel": "python3",
   "name": "common-cpu.m109",
   "type": "gcloud",
   "uri": "gcr.io/deeplearning-platform-release/base-cpu:m109"
  },
  "kernelspec": {
   "display_name": "Python 3",
   "language": "python",
   "name": "python3"
  },
  "language_info": {
   "codemirror_mode": {
    "name": "ipython",
    "version": 3
   },
   "file_extension": ".py",
   "mimetype": "text/x-python",
   "name": "python",
   "nbconvert_exporter": "python",
   "pygments_lexer": "ipython3",
   "version": "3.13.1"
  }
 },
 "nbformat": 4,
 "nbformat_minor": 5
}
