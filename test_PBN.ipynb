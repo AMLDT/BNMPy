{
 "cells": [
  {
   "cell_type": "markdown",
   "id": "2ffa6874-f912-4cb3-8ced-519a630937e3",
   "metadata": {},
   "source": [
    "# This is a tutorial to run a simulation of a simple Probabilistic Boolean Network\n"
   ]
  },
  {
   "cell_type": "code",
   "execution_count": 13,
   "id": "9da417fd-f9a6-43b1-b337-a335b8e65d9d",
   "metadata": {},
   "outputs": [],
   "source": [
    "import pandas as pd\n",
    "import numpy as np\n",
    "import random\n",
    "import seaborn as sns\n",
    "import matplotlib.pyplot as plt\n",
    "\n",
    "# import booleanNetwork module from ./src\n",
    "import sys\n",
    "sys.path.append('./src/BNMPy/')\n",
    "import booleanNetwork as bn\n",
    "import PBN as pbn"
   ]
  },
  {
   "cell_type": "markdown",
   "id": "e17e5ed6-8636-489e-b718-637a9fde0dfa",
   "metadata": {},
   "source": [
    "## Define a Probabilistic Boolean Network"
   ]
  },
  {
   "cell_type": "code",
   "execution_count": 86,
   "id": "7bf0ff49-0128-4357-92cc-225d7c6c699d",
   "metadata": {},
   "outputs": [],
   "source": [
    "# Probabilistic Boolean Network from :\n",
    "#https://academic.oup.com/bioinformatics/article-pdf/18/2/261/48850623/bioinformatics_18_2_261.pdf\n",
    "\n",
    "# number of nodes\n",
    "ngenes = 3\n",
    "\n",
    "# number of functions per node\n",
    "nf = np.array( [2, 1, 2] ) \n",
    "\n",
    "\n",
    "# conectivity matrix\n",
    "varF = np.array( [[0, 1, 2],  # indices of genes connected to gene 0\n",
    "                  [0, 1, 2],  \n",
    "                  [0, 1, 2], # indices of genes connected to gene 1\n",
    "                  [0, 1, 2],\n",
    "                  [0, 1, 2]] ) # indices of genes connected to gene 2\n",
    "\n",
    "# truth tables\n",
    "F = np.array( [[0, 1, 1, 1, 0, 1, 1, 1], # truth table for gene 0 \n",
    "               [0, 1, 1, 0, 0, 1, 1, 1], \n",
    "               [0, 1, 1, 0, 1, 1, 0, 1], # truth table for gene 1\n",
    "               [0, 0, 0, 1, 0, 1, 1, 1], # truth table for gene 2\n",
    "               [0, 0, 0, 0, 0, 0, 0, 1] ]) \n",
    "\n",
    "# probabilities of selecting functions per node\n",
    "cij = np.array([ [0.6, 0.4,-1], \n",
    "                 [1.0,-1,-1],\n",
    "                 [0.5, 0.5,-1] ] )\n",
    "\n",
    "# initial state\n",
    "x0  =  np.array( [1, 1, 1] )  # initial state [v0, v1, v2] "
   ]
  },
  {
   "cell_type": "code",
   "execution_count": 87,
   "id": "d3e403e4-ea7e-4316-b894-cf1dad078d1e",
   "metadata": {},
   "outputs": [],
   "source": [
    "network = pbn.ProbabilisticBN( ngenes, varF, nf, F, cij, x0  ) # create a PBN object"
   ]
  },
  {
   "cell_type": "markdown",
   "id": "ed4d5faf-c10d-489a-b55b-3fb48d1a9673",
   "metadata": {},
   "source": [
    "### Run 3 steps of simulations of PBNs"
   ]
  },
  {
   "cell_type": "code",
   "execution_count": 88,
   "id": "066843d6-64d1-4d0e-a53a-ef25c82f6676",
   "metadata": {},
   "outputs": [],
   "source": [
    "y = network.update( 3 )  # run 3 steps of the Probabilistic Boolean network"
   ]
  },
  {
   "cell_type": "code",
   "execution_count": 89,
   "id": "4a92f93f-d9dc-4615-b791-fe571b834c15",
   "metadata": {},
   "outputs": [
    {
     "data": {
      "text/plain": [
       "array([[1, 1, 1],\n",
       "       [1, 1, 1]], dtype=int8)"
      ]
     },
     "execution_count": 89,
     "metadata": {},
     "output_type": "execute_result"
    }
   ],
   "source": [
    "y"
   ]
  },
  {
   "cell_type": "markdown",
   "id": "fb7bac58-3a13-4a6b-aacc-c90d79b2fd49",
   "metadata": {},
   "source": [
    "### Run 3 steps of simulations of PBNs with noise"
   ]
  },
  {
   "cell_type": "code",
   "execution_count": 16,
   "id": "2de21005-0310-4f64-9ed4-f698fe53df64",
   "metadata": {},
   "outputs": [],
   "source": [
    "network = pbn.ProbabilisticBN( ngenes, varF, nf, F, cij, x0  ) # create a PBN object"
   ]
  },
  {
   "cell_type": "code",
   "execution_count": 17,
   "id": "443cd0bb-6327-4efb-ae10-2c2495d51359",
   "metadata": {},
   "outputs": [],
   "source": [
    "noise_level = 0.01 # noise\n",
    "y = network.update_noise( noise_level,  3 )  # run 3 steps of the Probabilistic Boolean network"
   ]
  },
  {
   "cell_type": "code",
   "execution_count": 18,
   "id": "f579c31c-66b8-4546-9446-5d56621fff26",
   "metadata": {},
   "outputs": [
    {
     "data": {
      "text/plain": [
       "array([[0, 1, 1],\n",
       "       [0, 0, 1],\n",
       "       [1, 1, 0],\n",
       "       [1, 0, 0]], dtype=int8)"
      ]
     },
     "execution_count": 18,
     "metadata": {},
     "output_type": "execute_result"
    }
   ],
   "source": [
    "y"
   ]
  },
  {
   "cell_type": "code",
   "execution_count": null,
   "id": "24c49a7b-1be3-48e5-bde6-f42b30f79ff6",
   "metadata": {},
   "outputs": [],
   "source": []
  }
 ],
 "metadata": {
  "environment": {
   "kernel": "python3",
   "name": "common-cpu.m109",
   "type": "gcloud",
   "uri": "gcr.io/deeplearning-platform-release/base-cpu:m109"
  },
  "kernelspec": {
   "display_name": "Python 3",
   "language": "python",
   "name": "python3"
  },
  "language_info": {
   "codemirror_mode": {
    "name": "ipython",
    "version": 3
   },
   "file_extension": ".py",
   "mimetype": "text/x-python",
   "name": "python",
   "nbconvert_exporter": "python",
   "pygments_lexer": "ipython3",
   "version": "3.9.6"
  }
 },
 "nbformat": 4,
 "nbformat_minor": 5
}
