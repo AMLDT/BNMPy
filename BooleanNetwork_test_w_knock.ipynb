{
 "cells": [
  {
   "cell_type": "markdown",
   "id": "2ffa6874-f912-4cb3-8ced-519a630937e3",
   "metadata": {},
   "source": [
    "# This is a tutorial to run a simulation of a simple Boolean Network model\n"
   ]
  },
  {
   "cell_type": "code",
   "execution_count": 1,
   "id": "9da417fd-f9a6-43b1-b337-a335b8e65d9d",
   "metadata": {},
   "outputs": [],
   "source": [
    "import pandas as pd\n",
    "import numpy as np\n",
    "import random\n",
    "import seaborn as sns\n",
    "import matplotlib.pyplot as plt\n",
    "\n",
    "# import booleanNetwork module from ./src\n",
    "import sys\n",
    "sys.path.append('C:/Users/15167/OneDrive/Documents/ISB/AML-DT-BNM/jupyter_notebook/Python/BooleanNetwork/')\n",
    "import booleanNetwork as bn\n",
    "import BMatrix  #this is the code I made"
   ]
  },
  {
   "cell_type": "markdown",
   "id": "232a6495-c863-4966-94ff-10279229d282",
   "metadata": {},
   "source": [
    "### Create a Simple Boolean network models"
   ]
  },
  {
   "cell_type": "code",
   "execution_count": 2,
   "id": "b1d48c38-2e4c-49e1-a741-47dfc1fdf568",
   "metadata": {},
   "outputs": [
    {
     "name": "stdout",
     "output_type": "stream",
     "text": [
      "[[ 0  1 -1]\n",
      " [ 0  1 -1]\n",
      " [ 0  1  2]]\n",
      "space\n",
      "[[ 0  1  1  1 -1 -1 -1 -1]\n",
      " [ 0  1  1  1 -1 -1 -1 -1]\n",
      " [ 0  0  1  0  1  0  1  0]]\n"
     ]
    }
   ],
   "source": [
    "# Simple Boolean network model\n",
    "# v0 = v0 | v1\n",
    "# v1 = v0 | v1\n",
    "# v2 = ( v0 | v1 ) & !v2\n",
    "\n",
    "ngenes = 3\n",
    "\n",
    "# conectivity matrix\n",
    "varF = np.array( [[0, 1, -1],  # indices of genes connected to gene 0\n",
    "                  [0, 1, -1],  # indices of genes connected to gene 1\n",
    "                  [0, 1, 2]] ) # indices of genes connected to gene 2\n",
    "\n",
    "# truth tables\n",
    "F = np.array( [[0, 1, 1, 1, -1, -1, -1, -1], # truth table for gene 0 \n",
    "               [0, 1, 1, 1, -1, -1, -1, -1], # truth table for gene 1\n",
    "               [0, 0, 1, 0, 1, 0, 1, 0]] ) # truth table for gene 2\n",
    "\n",
    "\n",
    "\n",
    "# initial state\n",
    "x0  =  np.array( [1, 0, 1] )  # initial state [v0, v1, v2] \n",
    "\n",
    "print(varF)\n",
    "print('space')\n",
    "print(F)"
   ]
  },
  {
   "cell_type": "code",
   "execution_count": 3,
   "id": "80e34459",
   "metadata": {},
   "outputs": [
    {
     "name": "stdout",
     "output_type": "stream",
     "text": [
      "[[ 0  1 -1]\n",
      " [ 0  1 -1]\n",
      " [ 0  1  2]]\n",
      "space\n",
      "[[ 0  1  1  1 -1 -1 -1 -1]\n",
      " [ 0  1  1  1 -1 -1 -1 -1]\n",
      " [ 0  0  1  0  1  0  1  0]]\n"
     ]
    }
   ],
   "source": [
    "#trying to get the same varF and F\n",
    "\n",
    "#how the file looks\n",
    "#v0 = v0 | v1\n",
    "#v1 = v0 | v1\n",
    "#v2 = ( v0 | v1 ) & ! v2 #added a space b/w ! and v2\n",
    "\n",
    "file = 'C:/Users/15167/OneDrive/Documents/ISB/test_equations.txt' #does not have the equations at the end\n",
    "\n",
    "equations = BMatrix.getting_equations(file)\n",
    "gene_dict = BMatrix.gene_dictionary(equations)\n",
    "only_genes = BMatrix.only_function_genes(equations)\n",
    "\n",
    "varF = BMatrix.connectivity_matrix(equations,only_genes,gene_dict)\n",
    "varF = np.array(varF)\n",
    "#print(varF)\n",
    "\n",
    "F = BMatrix.truth_table(equations,only_genes)\n",
    "F = np.array(F)\n",
    "#print(F)\n",
    "\n",
    "ngenes= len(equations)\n",
    "\n",
    "# initial state\n",
    "x0 = np.random.randint(2, size=ngenes) #random inital state \n",
    "x0 = np.array(x0)\n",
    "#print(x0)\n",
    "\n",
    "print(varF)\n",
    "print('space')\n",
    "print(F)"
   ]
  },
  {
   "cell_type": "markdown",
   "id": "31aaf072-6192-4cd6-8117-426ad659cd92",
   "metadata": {},
   "source": [
    "### Run a small simulation of 3 steps without noise"
   ]
  },
  {
   "cell_type": "code",
   "execution_count": 4,
   "id": "85630866-4d86-4daf-be27-b410d75eb772",
   "metadata": {},
   "outputs": [],
   "source": [
    "network = bn.BooleanNetwork( ngenes , varF, F, x0  ) # create a Boolean network object"
   ]
  },
  {
   "cell_type": "code",
   "execution_count": 5,
   "id": "e65c66db-0f2a-462f-b1cf-97c4aeeb5489",
   "metadata": {},
   "outputs": [
    {
     "data": {
      "text/plain": [
       "array([[1, 1, 1],\n",
       "       [1, 1, 0],\n",
       "       [1, 1, 1],\n",
       "       [1, 1, 0]], dtype=int8)"
      ]
     },
     "execution_count": 5,
     "metadata": {},
     "output_type": "execute_result"
    }
   ],
   "source": [
    "y = network.update( 3 )  # run 3 steps of the Boolean network model\n",
    "y "
   ]
  },
  {
   "cell_type": "markdown",
   "id": "d659e200-e4ee-4c92-98f8-eb0f329b5619",
   "metadata": {},
   "source": [
    "###  Run a simulation of 100000 steps with noise and plot state distribution from the trajectory"
   ]
  },
  {
   "cell_type": "code",
   "execution_count": 6,
   "id": "f36a3452-ad5c-48f9-8e41-cf745c166e62",
   "metadata": {},
   "outputs": [],
   "source": [
    "x0 = np.array( [0, 0, 0] ) # initial state\n",
    "network = bn.BooleanNetwork( ngenes , varF, F, x0  ) # create a Boolean network object"
   ]
  },
  {
   "cell_type": "code",
   "execution_count": 7,
   "id": "32ef2eda-607c-4dfe-9023-95447fe33096",
   "metadata": {},
   "outputs": [],
   "source": [
    "##%%timeit\n",
    "noise_level = 0.01 # noise\n",
    "y = network.update_noise ( noise_level  , 100000) # simulation with noise"
   ]
  },
  {
   "cell_type": "code",
   "execution_count": 8,
   "id": "4c6baff9-a219-4a5f-958e-8ce07bd7a086",
   "metadata": {},
   "outputs": [],
   "source": [
    "# transform boolean to decimal\n",
    "p = np.array(  [2**i for i in range(ngenes-1, -1, -1) ] )  \n",
    "states = y @ p.T "
   ]
  },
  {
   "cell_type": "code",
   "execution_count": 9,
   "id": "5a8ad3d0",
   "metadata": {},
   "outputs": [],
   "source": [
    "#print(states)"
   ]
  },
  {
   "cell_type": "code",
   "execution_count": 10,
   "id": "c655db1b-e017-4e7c-bc2f-579bb2a01df3",
   "metadata": {},
   "outputs": [
    {
     "data": {
      "text/plain": [
       "<BarContainer object of 8 artists>"
      ]
     },
     "execution_count": 10,
     "metadata": {},
     "output_type": "execute_result"
    },
    {
     "data": {
      "image/png": "[encoded data removed]",
      "text/plain": [
       "<Figure size 640x480 with 1 Axes>"
      ]
     },
     "metadata": {},
     "output_type": "display_data"
    }
   ],
   "source": [
    "# plot state distribution\n",
    "counts, bins = np.histogram( states, bins = range(2**ngenes + 1 )  )\n",
    "freq = counts / np.sum( counts)\n",
    "plt.bar(range(2**ngenes), freq )"
   ]
  },
  {
   "cell_type": "markdown",
   "id": "2988230d",
   "metadata": {},
   "source": [
    "# Trying to knock in/out genes"
   ]
  },
  {
   "cell_type": "code",
   "execution_count": 11,
   "id": "27d9a5fa",
   "metadata": {},
   "outputs": [
    {
     "name": "stdout",
     "output_type": "stream",
     "text": [
      "[[ 0  1 -1]\n",
      " [ 0  1 -1]\n",
      " [ 0  1  2]]\n",
      "space\n",
      "[[ 0  1  1  1 -1 -1 -1 -1]\n",
      " [ 0  1  1  1 -1 -1 -1 -1]\n",
      " [ 0  0  1  0  1  0  1  0]]\n"
     ]
    }
   ],
   "source": [
    "#getting the varF and F \n",
    "\n",
    "#how the file looks\n",
    "#v0 = v0 | v1\n",
    "#v1 = v0 | v1\n",
    "#v2 = ( v0 | v1 ) & ! v2 #added a space b/w ! and v2\n",
    "\n",
    "file = 'C:/Users/15167/OneDrive/Documents/ISB/test_equations.txt' #does not have the equations at the end\n",
    "\n",
    "equations = BMatrix.getting_equations(file)\n",
    "gene_dict = BMatrix.gene_dictionary(equations)\n",
    "only_genes = BMatrix.only_function_genes(equations)\n",
    "\n",
    "varF = BMatrix.connectivity_matrix(equations,only_genes,gene_dict)\n",
    "varF = np.array(varF)\n",
    "#print(varF)\n",
    "\n",
    "F = BMatrix.truth_table(equations,only_genes)\n",
    "F = np.array(F)\n",
    "#print(F)\n",
    "\n",
    "ngenes= len(equations)\n",
    "\n",
    "print(varF)\n",
    "print('space')\n",
    "print(F)"
   ]
  },
  {
   "cell_type": "code",
   "execution_count": 12,
   "id": "f280e1ca",
   "metadata": {},
   "outputs": [
    {
     "name": "stdout",
     "output_type": "stream",
     "text": [
      "[[-1 -1 -1]\n",
      " [-1 -1 -1]\n",
      " [-1 -1 -1]]\n",
      "[1 0 1]\n"
     ]
    }
   ],
   "source": [
    "#knocking in/out genes\n",
    "#varF for genes that are knocked out are supposed to all turn into -1 \n",
    "#assume mutation_profile is given (from data usually)\n",
    "mutation_profile = 'v0,v1,v2'\n",
    "\n",
    "#fixing the mutation_profile (removing repeats)\n",
    "mutation_profile = mutation_profile.split(',')\n",
    "mutation_profile = list(set(mutation_profile))\n",
    "#print(mutation_profile)\n",
    "\n",
    "#make the varF rows in mutation_profile all -1 \n",
    "for gene in mutation_profile:\n",
    "    varF[[gene_dict[gene]], :] = -1 \n",
    "print(varF)\n",
    "\n",
    "#the inital state is set \n",
    "x0  =  np.array( [1, 0, 1] )\n",
    "print(x0)"
   ]
  },
  {
   "cell_type": "markdown",
   "id": "b370612e",
   "metadata": {},
   "source": [
    "## Running the new knocked in/out model"
   ]
  },
  {
   "cell_type": "code",
   "execution_count": 13,
   "id": "7c51e319",
   "metadata": {},
   "outputs": [],
   "source": [
    "network = bn.BooleanNetwork( ngenes , varF, F, x0  ) # create a Boolean network object"
   ]
  },
  {
   "cell_type": "code",
   "execution_count": 15,
   "id": "1d7c9c08",
   "metadata": {},
   "outputs": [],
   "source": [
    "##%%timeit\n",
    "noise_level = 0.01 # noise\n",
    "y = network.update_noise ( noise_level  , 200) # simulation with noise"
   ]
  },
  {
   "cell_type": "code",
   "execution_count": 16,
   "id": "a3874292",
   "metadata": {},
   "outputs": [
    {
     "name": "stdout",
     "output_type": "stream",
     "text": [
      "[[1 0 1]\n",
      " [0 0 0]\n",
      " [0 0 0]\n",
      " [0 0 0]\n",
      " [0 0 0]\n",
      " [0 0 0]\n",
      " [0 0 0]\n",
      " [0 0 0]\n",
      " [0 0 0]\n",
      " [0 0 0]\n",
      " [0 0 0]\n",
      " [0 0 0]\n",
      " [0 0 0]\n",
      " [0 0 0]\n",
      " [0 0 0]\n",
      " [0 0 0]\n",
      " [0 0 0]\n",
      " [0 0 0]\n",
      " [0 0 0]\n",
      " [0 0 0]\n",
      " [0 0 0]\n",
      " [0 0 0]\n",
      " [0 0 0]\n",
      " [0 0 0]\n",
      " [0 0 0]\n",
      " [0 0 0]\n",
      " [0 0 0]\n",
      " [0 0 0]\n",
      " [0 0 0]\n",
      " [0 0 0]\n",
      " [0 0 0]\n",
      " [0 0 0]\n",
      " [0 0 0]\n",
      " [0 0 0]\n",
      " [0 0 0]\n",
      " [0 0 0]\n",
      " [0 0 0]\n",
      " [0 0 0]\n",
      " [0 0 0]\n",
      " [0 0 0]\n",
      " [0 0 0]\n",
      " [0 0 0]\n",
      " [0 0 0]\n",
      " [0 0 0]\n",
      " [0 0 0]\n",
      " [0 0 0]\n",
      " [0 0 0]\n",
      " [0 0 0]\n",
      " [0 0 0]\n",
      " [0 0 0]\n",
      " [0 0 0]\n",
      " [0 0 0]\n",
      " [0 0 0]\n",
      " [0 0 0]\n",
      " [0 0 0]\n",
      " [0 0 0]\n",
      " [0 0 0]\n",
      " [0 0 0]\n",
      " [0 0 0]\n",
      " [0 0 0]\n",
      " [0 0 0]\n",
      " [0 0 0]\n",
      " [0 0 0]\n",
      " [0 0 0]\n",
      " [0 0 0]\n",
      " [0 0 0]\n",
      " [0 0 0]\n",
      " [0 0 0]\n",
      " [0 0 0]\n",
      " [0 0 0]\n",
      " [0 0 0]\n",
      " [0 0 0]\n",
      " [0 0 0]\n",
      " [0 0 0]\n",
      " [0 0 0]\n",
      " [0 0 0]\n",
      " [0 0 0]\n",
      " [0 0 0]\n",
      " [0 0 0]\n",
      " [0 0 0]\n",
      " [0 0 0]\n",
      " [0 0 0]\n",
      " [0 0 0]\n",
      " [0 0 0]\n",
      " [0 0 0]\n",
      " [0 0 0]\n",
      " [0 0 0]\n",
      " [0 0 0]\n",
      " [0 0 0]\n",
      " [0 0 0]\n",
      " [0 0 0]\n",
      " [0 0 0]\n",
      " [0 0 0]\n",
      " [0 0 0]\n",
      " [0 0 0]\n",
      " [0 0 0]\n",
      " [0 0 0]\n",
      " [0 0 0]\n",
      " [0 0 0]\n",
      " [0 0 0]\n",
      " [0 0 0]\n",
      " [0 0 0]\n",
      " [0 0 0]\n",
      " [0 0 0]\n",
      " [0 0 0]\n",
      " [0 0 0]\n",
      " [0 0 0]\n",
      " [0 0 0]\n",
      " [0 0 0]\n",
      " [0 0 0]\n",
      " [0 0 0]\n",
      " [0 0 0]\n",
      " [0 0 0]\n",
      " [0 0 0]\n",
      " [0 0 0]\n",
      " [0 0 0]\n",
      " [0 0 0]\n",
      " [0 0 0]\n",
      " [0 0 0]\n",
      " [0 0 0]\n",
      " [0 0 0]\n",
      " [0 0 0]\n",
      " [0 0 0]\n",
      " [0 0 0]\n",
      " [0 0 0]\n",
      " [0 0 0]\n",
      " [0 0 0]\n",
      " [0 0 0]\n",
      " [0 0 0]\n",
      " [0 0 0]\n",
      " [0 0 0]\n",
      " [0 0 0]\n",
      " [0 0 0]\n",
      " [0 0 0]\n",
      " [0 0 0]\n",
      " [0 0 0]\n",
      " [0 0 0]\n",
      " [0 0 0]\n",
      " [0 0 0]\n",
      " [0 0 0]\n",
      " [0 0 0]\n",
      " [0 0 0]\n",
      " [0 0 0]\n",
      " [0 0 0]\n",
      " [0 0 0]\n",
      " [0 0 0]\n",
      " [0 0 0]\n",
      " [0 0 0]\n",
      " [0 0 0]\n",
      " [0 0 0]\n",
      " [0 0 0]\n",
      " [0 0 0]\n",
      " [0 0 0]\n",
      " [0 0 0]\n",
      " [0 0 0]\n",
      " [0 0 0]\n",
      " [0 0 0]\n",
      " [0 0 0]\n",
      " [0 0 0]\n",
      " [0 0 0]\n",
      " [0 0 0]\n",
      " [0 0 0]\n",
      " [0 0 0]\n",
      " [0 0 0]\n",
      " [0 0 0]\n",
      " [0 0 0]\n",
      " [0 0 0]\n",
      " [0 0 0]\n",
      " [0 0 0]\n",
      " [0 0 0]\n",
      " [0 0 0]\n",
      " [0 0 0]\n",
      " [0 0 0]\n",
      " [0 0 0]\n",
      " [0 0 0]\n",
      " [0 0 0]\n",
      " [0 0 0]\n",
      " [0 0 0]\n",
      " [0 0 0]\n",
      " [0 0 0]\n",
      " [0 0 0]\n",
      " [0 0 0]\n",
      " [0 0 0]\n",
      " [0 0 0]\n",
      " [0 0 0]\n",
      " [0 0 0]\n",
      " [0 0 0]\n",
      " [0 0 0]\n",
      " [0 0 0]\n",
      " [0 0 0]\n",
      " [0 0 0]\n",
      " [0 0 0]\n",
      " [0 0 0]\n",
      " [0 0 0]\n",
      " [0 0 0]\n",
      " [0 0 0]\n",
      " [0 0 0]\n",
      " [0 0 0]\n",
      " [0 0 0]\n",
      " [0 0 0]\n",
      " [0 0 0]]\n"
     ]
    }
   ],
   "source": [
    "print(y)"
   ]
  },
  {
   "cell_type": "code",
   "execution_count": null,
   "id": "b874ab6c",
   "metadata": {},
   "outputs": [],
   "source": []
  }
 ],
 "metadata": {
  "environment": {
   "kernel": "python3",
   "name": "common-cpu.m109",
   "type": "gcloud",
   "uri": "gcr.io/deeplearning-platform-release/base-cpu:m109"
  },
  "kernelspec": {
   "display_name": "Python 3 (ipykernel)",
   "language": "python",
   "name": "python3"
  },
  "language_info": {
   "codemirror_mode": {
    "name": "ipython",
    "version": 3
   },
   "file_extension": ".py",
   "mimetype": "text/x-python",
   "name": "python",
   "nbconvert_exporter": "python",
   "pygments_lexer": "ipython3",
   "version": "3.10.9"
  }
 },
 "nbformat": 4,
 "nbformat_minor": 5
}
