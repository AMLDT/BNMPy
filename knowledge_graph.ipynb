{
 "cells": [
  {
   "cell_type": "markdown",
   "id": "9759656c-716f-4bbc-8fe6-55bb22b19aaa",
   "metadata": {},
   "source": [
    "# Building a boolean network from a knowledge graph\n",
    "\n",
    "Use SigNOR\n",
    "\n",
    "Given a list of genes for which we want to construct a BN:\n",
    "\n",
    "1. Find the Steiner subgraph for the given list of genes.\n",
    "2. For each node in the subgraph, find all if its input nodes (i.e. all edges leading into that node).\n",
    "3. For each such node, there is an activating relation if the edge is \"up-regulates\", and a repressing relation if the edge is \"down-regulates\".\n",
    "4. Combine all of the edges with a \"joiner function\" - AND, OR, repressor wins, etc.\n",
    "\n",
    "Or, given an existing model (with some number of genes), a list of nodes, and a knowledge graph, how do we incorporate the new nodes into the model?\n"
   ]
  },
  {
   "cell_type": "code",
   "execution_count": 1,
   "id": "e24e0fa2-24ba-4079-8f09-35b70ed63c66",
   "metadata": {},
   "outputs": [],
   "source": [
    "from BNMPy import build_bn_from_kg"
   ]
  },
  {
   "cell_type": "code",
   "execution_count": 2,
   "id": "717d34f3-a011-4fe9-8563-311a0c094be7",
   "metadata": {},
   "outputs": [
    {
     "name": "stdout",
     "output_type": "stream",
     "text": [
      "['UNIPROT::P21580', 'UNIPROT::P24385', 'UNIPROT::Q9UPN3']\n",
      "['UNIPROT::P21580', 'UNIPROT::P24385', 'UNIPROT::Q9UPN3']\n"
     ]
    }
   ],
   "source": [
    "bn_string, relations = build_bn_from_kg.load_signor_network(['TNFAIP3', 'CCND1', 'MACF1'])"
   ]
  },
  {
   "cell_type": "code",
   "execution_count": 3,
   "id": "079e289b-e060-4d7e-8342-d61d1b7608da",
   "metadata": {},
   "outputs": [
    {
     "name": "stdout",
     "output_type": "stream",
     "text": [
      "ITCH = ITCH\n",
      "TNFAIP3 = (ITCH)\n",
      "CCND1 = (! GSK3B) & (GLI1)\n",
      "GSK3B = (GSK3B) & (! MACF1)\n",
      "MACF1 = (! GSK3B)\n",
      "GLI1 = (! ITCH) & (GLI1)\n"
     ]
    }
   ],
   "source": [
    "print(bn_string)"
   ]
  },
  {
   "cell_type": "code",
   "execution_count": 4,
   "id": "a07a6270-45f0-4971-a80c-8429dd81e437",
   "metadata": {},
   "outputs": [
    {
     "name": "stdout",
     "output_type": "stream",
     "text": [
      "['UNIPROT::P01116', 'UNIPROT::P63092', 'UNIPROT::P04637', 'UNIPROT::Q13485', 'UNIPROT::P42771', 'UNIPROT::Q68DV7']\n",
      "['UNIPROT::P01116', 'UNIPROT::P63092', 'UNIPROT::P04637', 'UNIPROT::Q13485', 'UNIPROT::P42771', 'UNIPROT::Q68DV7']\n",
      "GNAS = GNAS\n",
      "MAPK3 = (MAPK3)\n",
      "IKBKB = (! IKBKB) & (SRC)\n",
      "MYC = (MAPK3) & (! CEBPA) & (! SMAD4)\n",
      "CEBPA = (! MAPK3) & (CEBPA) & (! FZD2)\n",
      "SRC = (GNAS) & (! SRC)\n",
      "TP53 = (MAPK3)\n",
      "FZD2 = (RNF43)\n",
      "SMAD4 = (MAPK3)\n",
      "KRAS = (SRC)\n",
      "CDKN2A = (! IKBKB) & (! MYC)\n",
      "RNF43 = RNF43\n"
     ]
    }
   ],
   "source": [
    "bn_string, relations = build_bn_from_kg.load_signor_network(['KRAS', 'GNAS', 'TP53', 'SMAD4', 'CDKN2A', 'RNF43'], joiner='&')\n",
    "print(bn_string)"
   ]
  },
  {
   "cell_type": "code",
   "execution_count": 5,
   "id": "4fe4db66-e05b-43fe-87d2-10301a2b3991",
   "metadata": {},
   "outputs": [
    {
     "name": "stdout",
     "output_type": "stream",
     "text": [
      "['UNIPROT::P01116', 'UNIPROT::P63092', 'UNIPROT::P04637', 'UNIPROT::Q13485', 'UNIPROT::P42771', 'UNIPROT::Q68DV7']\n",
      "['UNIPROT::P01116', 'UNIPROT::P63092', 'UNIPROT::P04637', 'UNIPROT::Q13485', 'UNIPROT::P42771', 'UNIPROT::Q68DV7']\n",
      "GNAS = GNAS\n",
      "MAPK3 = (MAPK3)\n",
      "IKBKB = (! IKBKB) | (SRC)\n",
      "MYC = (MAPK3) | (! CEBPA) | (! SMAD4)\n",
      "CEBPA = (! MAPK3) | (CEBPA) | (! FZD2)\n",
      "SRC = (GNAS) | (! SRC)\n",
      "TP53 = (MAPK3)\n",
      "FZD2 = (RNF43)\n",
      "SMAD4 = (MAPK3)\n",
      "KRAS = (SRC)\n",
      "CDKN2A = (! IKBKB) | (! MYC)\n",
      "RNF43 = RNF43\n"
     ]
    }
   ],
   "source": [
    "bn_string, relations = build_bn_from_kg.load_signor_network(['KRAS', 'GNAS', 'TP53', 'SMAD4', 'CDKN2A', 'RNF43'], joiner='|')\n",
    "print(bn_string)"
   ]
  },
  {
   "cell_type": "code",
   "execution_count": 6,
   "id": "6ac30ce2-4852-4a9e-9fc7-d366b9c8f5fe",
   "metadata": {},
   "outputs": [
    {
     "name": "stdout",
     "output_type": "stream",
     "text": [
      "['UNIPROT::P01116', 'UNIPROT::P63092', 'UNIPROT::P04637', 'UNIPROT::Q13485', 'UNIPROT::P42771', 'UNIPROT::Q68DV7']\n",
      "['UNIPROT::P01116', 'UNIPROT::P63092', 'UNIPROT::P04637', 'UNIPROT::Q13485', 'UNIPROT::P42771', 'UNIPROT::Q68DV7']\n",
      "GNAS = GNAS\n",
      "MAPK3 = MAPK3\n",
      "IKBKB = (!IKBKB) & (SRC)\n",
      "MYC = (!CEBPA & !SMAD4) & (MAPK3)\n",
      "CEBPA = (!MAPK3 & !FZD2) & (CEBPA)\n",
      "SRC = (!SRC) & (GNAS)\n",
      "TP53 = MAPK3\n",
      "FZD2 = RNF43\n",
      "SMAD4 = MAPK3\n",
      "KRAS = SRC\n",
      "CDKN2A = !IKBKB & !MYC\n",
      "RNF43 = RNF43\n"
     ]
    }
   ],
   "source": [
    "bn_string, relations = build_bn_from_kg.load_signor_network(['KRAS', 'GNAS', 'TP53', 'SMAD4', 'CDKN2A', 'RNF43'],\n",
    "                                                            joiner='inhibitor_wins')\n",
    "print(bn_string)"
   ]
  },
  {
   "cell_type": "code",
   "execution_count": 7,
   "id": "55a8aa62-2b43-4a3e-aa30-cc62de0d3120",
   "metadata": {},
   "outputs": [
    {
     "data": {
      "text/plain": [
       "[('MAPK3', 'MAPK3', 'activate'),\n",
       " ('IKBKB', 'IKBKB', 'inhibit'),\n",
       " ('SRC', 'IKBKB', 'activate'),\n",
       " ('MAPK3', 'MYC', 'activate'),\n",
       " ('CEBPA', 'MYC', 'inhibit'),\n",
       " ('SMAD4', 'MYC', 'inhibit'),\n",
       " ('MAPK3', 'CEBPA', 'inhibit'),\n",
       " ('CEBPA', 'CEBPA', 'activate'),\n",
       " ('FZD2', 'CEBPA', 'inhibit'),\n",
       " ('GNAS', 'SRC', 'activate'),\n",
       " ('SRC', 'SRC', 'inhibit'),\n",
       " ('MAPK3', 'TP53', 'activate'),\n",
       " ('RNF43', 'FZD2', 'activate'),\n",
       " ('MAPK3', 'SMAD4', 'activate'),\n",
       " ('SRC', 'KRAS', 'activate'),\n",
       " ('IKBKB', 'CDKN2A', 'inhibit'),\n",
       " ('MYC', 'CDKN2A', 'inhibit')]"
      ]
     },
     "execution_count": 7,
     "metadata": {},
     "output_type": "execute_result"
    }
   ],
   "source": [
    "relations"
   ]
  },
  {
   "cell_type": "markdown",
   "id": "19020452-d295-4556-8281-db5618d21b6c",
   "metadata": {},
   "source": [
    "## Combining KG knowledge graphs"
   ]
  },
  {
   "cell_type": "code",
   "execution_count": 8,
   "id": "94a9f1cc-10a2-43a7-88f8-31108097a057",
   "metadata": {},
   "outputs": [
    {
     "name": "stdout",
     "output_type": "stream",
     "text": [
      "No initial state provided, using a random initial state\n"
     ]
    }
   ],
   "source": [
    "# load the Vundavalli KG\n",
    "from BNMPy import booleanNetwork as bn\n",
    "from BNMPy import BMatrix \n",
    "\n",
    "file = 'input_files/pancreatic_vundavilli_2020_fig3.txt'\n",
    "network = BMatrix.load_network_from_file(file)"
   ]
  },
  {
   "cell_type": "code",
   "execution_count": 9,
   "id": "7f0fc77b-3257-488a-8e97-88750188b226",
   "metadata": {},
   "outputs": [],
   "source": [
    "genes = network.nodeDict.keys()"
   ]
  },
  {
   "cell_type": "code",
   "execution_count": 10,
   "id": "8d9c4399-5d87-4ba9-953d-5c3bf12cc0a3",
   "metadata": {},
   "outputs": [
    {
     "name": "stdout",
     "output_type": "stream",
     "text": [
      "['UNIPROT::P01133', 'UNIPROT::Q99075', 'UNIPROT::P05019', 'UNIPROT::Q02297', 'UNIPROT::P60484', 'UNIPROT::Q15831', 'UNIPROT::P00533', 'UNIPROT::P04626', 'UNIPROT::P40763', 'UNIPROT::P35568', 'UNIPROT::P62993', 'UNIPROT::Q13233', 'UNIPROT::Q9Y6X8', 'UNIPROT::P45985', 'UNIPROT::Q02750', 'UNIPROT::P42336', 'UNIPROT::P45983', 'UNIPROT::O15530', 'UNIPROT::P31749', 'UNIPROT::Q13131', 'UNIPROT::P23443', 'UNIPROT::Q92934', 'UNIPROT::P24385', 'UNIPROT::P10415', 'UNIPROT::P11464']\n",
      "['UNIPROT::P01133', 'UNIPROT::Q99075', 'UNIPROT::P05019', 'UNIPROT::Q02297', 'UNIPROT::P60484', 'UNIPROT::Q15831', 'UNIPROT::P00533', 'UNIPROT::P04626', 'UNIPROT::P40763', 'UNIPROT::P35568', 'UNIPROT::P62993', 'UNIPROT::Q13233', 'UNIPROT::P45985', 'UNIPROT::Q02750', 'UNIPROT::P42336', 'UNIPROT::P45983', 'UNIPROT::O15530', 'UNIPROT::P31749', 'UNIPROT::Q13131', 'UNIPROT::P23443', 'UNIPROT::Q92934', 'UNIPROT::P24385', 'UNIPROT::P10415']\n"
     ]
    }
   ],
   "source": [
    "bn_string, relations = build_bn_from_kg.load_signor_network(genes)"
   ]
  },
  {
   "cell_type": "code",
   "execution_count": 11,
   "id": "1b2d6c7c-de51-4d67-bb8f-6aa7b84745f9",
   "metadata": {},
   "outputs": [
    {
     "name": "stdout",
     "output_type": "stream",
     "text": [
      "STAT3 = (MAPK8) & (EGFR) & (MAP3K1)\n",
      "CCND1 = (STAT3)\n",
      "RPS6KB1 = (PDPK1)\n",
      "MAPK8 = (! RPS6KB1) & (MAP2K4)\n",
      "BAD = (! MAPK8) & (! AKT1)\n",
      "AKT1 = (MAPK8) & (PDPK1) & (! PTEN) & (PIK3CA)\n",
      "EGFR = (EGFR) & (ERBB2) & (EGF) & (HBEGF)\n",
      "PDPK1 = PDPK1\n",
      "PTEN = (PTEN)\n",
      "ERBB2 = (EGFR) & (ERBB2) & (NRG1) & (EGF)\n",
      "PIK3CA = (! PTEN) & (IRS1)\n",
      "IRS1 = (! RPS6KB1) & (! MAPK8) & (! PIK3CA) & (! MAP2K1)\n",
      "BCL2 = (MAPK8) & (! BAD)\n",
      "MAP2K1 = (PDPK1) & (MAP2K1) & (MAP3K1)\n",
      "MAP3K1 = MAP3K1\n",
      "NRG1 = NRG1\n",
      "STK11 = (STK11)\n",
      "PPARGC1A = (! AKT1) & (PPARGC1A) & (PRKAA1)\n",
      "GRB2 = (ERBB2) & (IRS1)\n",
      "MAP2K4 = (! AKT1) & (MAP3K1) & (MAP2K4)\n",
      "PRKAA1 = (! AKT1) & (STK11) & (! PRKAA1)\n",
      "IGF1 = (PPARGC1A)\n",
      "EGF = EGF\n",
      "HBEGF = HBEGF\n"
     ]
    }
   ],
   "source": [
    "print(bn_string)"
   ]
  },
  {
   "cell_type": "code",
   "execution_count": 12,
   "id": "813dbb3e-35a5-47e2-b71b-b0cbdddaa981",
   "metadata": {},
   "outputs": [
    {
     "ename": "TypeError",
     "evalue": "unsupported operand type(s) for +: 'dict_keys' and 'dict_keys'",
     "output_type": "error",
     "traceback": [
      "\u001b[0;31m---------------------------------------------------------------------------\u001b[0m",
      "\u001b[0;31mTypeError\u001b[0m                                 Traceback (most recent call last)",
      "Cell \u001b[0;32mIn[12], line 1\u001b[0m\n\u001b[0;32m----> 1\u001b[0m merged_bn_string \u001b[38;5;241m=\u001b[39m \u001b[43mbuild_bn_from_kg\u001b[49m\u001b[38;5;241;43m.\u001b[39;49m\u001b[43mmerge_network\u001b[49m\u001b[43m(\u001b[49m\u001b[43mnetwork\u001b[49m\u001b[43m,\u001b[49m\u001b[43m \u001b[49m\u001b[43mbn_string\u001b[49m\u001b[43m)\u001b[49m\n",
      "File \u001b[0;32m~/isb/BNMPy/src/BNMPy/build_bn_from_kg.py:157\u001b[0m, in \u001b[0;36mmerge_network\u001b[0;34m(bn, new_equations, outer_joiner)\u001b[0m\n\u001b[1;32m    155\u001b[0m     new_eq_dict[key] \u001b[38;5;241m=\u001b[39m terms[\u001b[38;5;241m1\u001b[39m]\n\u001b[1;32m    156\u001b[0m \u001b[38;5;66;03m# just combine it in a primitive way...\u001b[39;00m\n\u001b[0;32m--> 157\u001b[0m combined_keys \u001b[38;5;241m=\u001b[39m \u001b[38;5;28mset\u001b[39m(\u001b[43mold_eq_dict\u001b[49m\u001b[38;5;241;43m.\u001b[39;49m\u001b[43mkeys\u001b[49m\u001b[43m(\u001b[49m\u001b[43m)\u001b[49m\u001b[43m \u001b[49m\u001b[38;5;241;43m+\u001b[39;49m\u001b[43m \u001b[49m\u001b[43mnew_eq_dict\u001b[49m\u001b[38;5;241;43m.\u001b[39;49m\u001b[43mkeys\u001b[49m\u001b[43m(\u001b[49m\u001b[43m)\u001b[49m)\n\u001b[1;32m    158\u001b[0m combined_eqs \u001b[38;5;241m=\u001b[39m {}\n\u001b[1;32m    159\u001b[0m combined_eqs_list \u001b[38;5;241m=\u001b[39m []\n",
      "\u001b[0;31mTypeError\u001b[0m: unsupported operand type(s) for +: 'dict_keys' and 'dict_keys'"
     ]
    }
   ],
   "source": [
    "merged_bn_string = build_bn_from_kg.merge_network(network, bn_string)"
   ]
  },
  {
   "cell_type": "code",
   "execution_count": null,
   "id": "69739b87-3bd3-4cc7-adf3-f6db2fac4375",
   "metadata": {},
   "outputs": [],
   "source": [
    "print(merged_bn_string)"
   ]
  }
 ],
 "metadata": {
  "kernelspec": {
   "display_name": "Python 3 (ipykernel)",
   "language": "python",
   "name": "python3"
  },
  "language_info": {
   "codemirror_mode": {
    "name": "ipython",
    "version": 3
   },
   "file_extension": ".py",
   "mimetype": "text/x-python",
   "name": "python",
   "nbconvert_exporter": "python",
   "pygments_lexer": "ipython3",
   "version": "3.10.6"
  }
 },
 "nbformat": 4,
 "nbformat_minor": 5
}
