{
 "cells": [
  {
   "cell_type": "markdown",
   "id": "2ffa6874-f912-4cb3-8ced-519a630937e3",
   "metadata": {},
   "source": [
    "# This is a tutorial to run a simulation of a simple Boolean Network model\n"
   ]
  },
  {
   "cell_type": "code",
   "execution_count": 1,
   "id": "9da417fd-f9a6-43b1-b337-a335b8e65d9d",
   "metadata": {},
   "outputs": [],
   "source": [
    "import pandas as pd\n",
    "import numpy as np\n",
    "import random\n",
    "import seaborn as sns\n",
    "import matplotlib.pyplot as plt\n",
    "\n",
    "# import booleanNetwork module from ./src\n",
    "import sys\n",
    "sys.path.append('./src/')\n",
    "import booleanNetwork as bn"
   ]
  },
  {
   "cell_type": "markdown",
   "id": "232a6495-c863-4966-94ff-10279229d282",
   "metadata": {},
   "source": [
    "### Create a Simple Boolean network models"
   ]
  },
  {
   "cell_type": "code",
   "execution_count": 2,
   "id": "b1d48c38-2e4c-49e1-a741-47dfc1fdf568",
   "metadata": {},
   "outputs": [],
   "source": [
    "# Simple Boolean network model\n",
    "# v1 = v1 | v2\n",
    "# v2 = v1 | v2\n",
    "# v3 = ( v1 | v2 ) & !v3\n",
    "\n",
    "ngenes = 3\n",
    "\n",
    "# conectivity matrix\n",
    "varF = np.array( [[0, 1, -1],  # indices of genes connected to gene 0\n",
    "                  [0, 1, -1],  # indices of genes connected to gene 1\n",
    "                  [0, 1, 2]] ) # indices of genes connected to gene 2\n",
    "\n",
    "# truth tables\n",
    "F = np.array( [[0, 1, 1, 1, -1, -1, -1, -1], # truth table for gene 0 \n",
    "               [0, 1, 1, 1, -1, -1, -1, -1], # truth table for gene 1\n",
    "               [0, 0, 1, 0, 1, 0, 1, 0]] ) # truth table for gene 2\n",
    "        \n",
    "\n",
    "# initia state\n",
    "x0  =  np.array( [0, 0, 1] )  # initial state [v0, v1, v2] \n"
   ]
  },
  {
   "cell_type": "markdown",
   "id": "31aaf072-6192-4cd6-8117-426ad659cd92",
   "metadata": {},
   "source": [
    "### Run a small simulation of 3 steps without noise"
   ]
  },
  {
   "cell_type": "code",
   "execution_count": 3,
   "id": "85630866-4d86-4daf-be27-b410d75eb772",
   "metadata": {},
   "outputs": [],
   "source": [
    "network = bn.BooleanNetwork( ngenes , varF, F, x0  ) # create a Boolean network object"
   ]
  },
  {
   "cell_type": "code",
   "execution_count": 4,
   "id": "e65c66db-0f2a-462f-b1cf-97c4aeeb5489",
   "metadata": {},
   "outputs": [],
   "source": [
    "network.update( 3 )  # run 3 steps of the Boolean network model"
   ]
  },
  {
   "cell_type": "code",
   "execution_count": 5,
   "id": "19289188-a0fc-472b-ab87-875aeba87f90",
   "metadata": {},
   "outputs": [
    {
     "data": {
      "text/plain": [
       "array([[0, 0, 1],\n",
       "       [0, 0, 0],\n",
       "       [0, 0, 0],\n",
       "       [0, 0, 0]], dtype=int8)"
      ]
     },
     "execution_count": 5,
     "metadata": {},
     "output_type": "execute_result"
    }
   ],
   "source": [
    "y = network.getTrajectory()  # get the trajectory of the simulation\n",
    "y"
   ]
  },
  {
   "cell_type": "markdown",
   "id": "d659e200-e4ee-4c92-98f8-eb0f329b5619",
   "metadata": {},
   "source": [
    "###  Run a simulation of 5000 steps with noise and plot state distribution from the trajectory"
   ]
  },
  {
   "cell_type": "code",
   "execution_count": 6,
   "id": "f36a3452-ad5c-48f9-8e41-cf745c166e62",
   "metadata": {},
   "outputs": [],
   "source": [
    "x0 = np.array( [0, 0, 0] ) # initial state\n",
    "network = bn.BooleanNetwork( ngenes , varF, F, x0  ) # create a Boolean network object"
   ]
  },
  {
   "cell_type": "code",
   "execution_count": 7,
   "id": "32ef2eda-607c-4dfe-9023-95447fe33096",
   "metadata": {},
   "outputs": [],
   "source": [
    "noise_level = 0.01 # noise\n",
    "network.update_noise ( noise_level  , 5000) # simulation with noise"
   ]
  },
  {
   "cell_type": "code",
   "execution_count": 8,
   "id": "5101c3d6-433d-4feb-ab82-e55032594dbf",
   "metadata": {},
   "outputs": [],
   "source": [
    "y = network.getTrajectory() # obtaining the trajectory"
   ]
  },
  {
   "cell_type": "code",
   "execution_count": 9,
   "id": "4c6baff9-a219-4a5f-958e-8ce07bd7a086",
   "metadata": {},
   "outputs": [],
   "source": [
    "# transform boolean to decimal\n",
    "p = np.array(  [2**i for i in range(ngenes-1, -1, -1) ] )  \n",
    "states = y @ p.T "
   ]
  },
  {
   "cell_type": "code",
   "execution_count": 10,
   "id": "c655db1b-e017-4e7c-bc2f-579bb2a01df3",
   "metadata": {},
   "outputs": [
    {
     "data": {
      "text/plain": [
       "<BarContainer object of 8 artists>"
      ]
     },
     "execution_count": 10,
     "metadata": {},
     "output_type": "execute_result"
    },
    {
     "data": {
      "image/png": "[encoded data removed]",
      "text/plain": [
       "<Figure size 640x480 with 1 Axes>"
      ]
     },
     "metadata": {},
     "output_type": "display_data"
    }
   ],
   "source": [
    "# plot state distribution\n",
    "counts, bins = np.histogram( states, bins = range(2**ngenes + 1 )  )\n",
    "freq = counts / np.sum( counts)\n",
    "plt.bar(range(2**ngenes), freq )"
   ]
  },
  {
   "cell_type": "code",
   "execution_count": null,
   "id": "1038f806-7f96-473d-aeb2-a442b692048d",
   "metadata": {},
   "outputs": [],
   "source": []
  }
 ],
 "metadata": {
  "environment": {
   "kernel": "python3",
   "name": "common-cpu.m109",
   "type": "gcloud",
   "uri": "gcr.io/deeplearning-platform-release/base-cpu:m109"
  },
  "kernelspec": {
   "display_name": "Python 3",
   "language": "python",
   "name": "python3"
  },
  "language_info": {
   "codemirror_mode": {
    "name": "ipython",
    "version": 3
   },
   "file_extension": ".py",
   "mimetype": "text/x-python",
   "name": "python",
   "nbconvert_exporter": "python",
   "pygments_lexer": "ipython3",
   "version": "3.10.11"
  }
 },
 "nbformat": 4,
 "nbformat_minor": 5
}
