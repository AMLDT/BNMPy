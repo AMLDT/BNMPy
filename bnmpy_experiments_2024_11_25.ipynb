{
 "cells": [
  {
   "cell_type": "markdown",
   "id": "53989e6f-ca01-4de0-bb18-76f5d8de6cb0",
   "metadata": {},
   "source": [
    "# Experimenting with BNMPy\n",
    "\n",
    "- loading boolean networks from equations/files\n",
    "- simulating boolean networks with and without noise\n",
    "- running networks with different initial conditions\n",
    "- plotting results\n",
    "- plotting the network using graphviz/dot?"
   ]
  },
  {
   "cell_type": "code",
   "execution_count": 1,
   "id": "13155d6b-a5ff-431b-bb7c-874b5f481714",
   "metadata": {},
   "outputs": [],
   "source": [
    "import BNMPy.booleanNetwork as bn\n",
    "from BNMPy import BMatrix"
   ]
  },
  {
   "cell_type": "code",
   "execution_count": 7,
   "id": "6b5f30e5-ba66-4112-ac9f-318de18f017b",
   "metadata": {},
   "outputs": [],
   "source": [
    "bn1 = BMatrix.make_boolean_network('input_files/simple_network_test.txt')"
   ]
  },
  {
   "cell_type": "code",
   "execution_count": 11,
   "id": "08198baa-e745-4407-b802-39727026c8b0",
   "metadata": {},
   "outputs": [
    {
     "data": {
      "text/plain": [
       "\u001b[0;31mSignature:\u001b[0m \u001b[0mbn1\u001b[0m\u001b[0;34m.\u001b[0m\u001b[0msetInitialValues\u001b[0m\u001b[0;34m(\u001b[0m\u001b[0minitialNodeValues\u001b[0m\u001b[0;34m)\u001b[0m\u001b[0;34m\u001b[0m\u001b[0;34m\u001b[0m\u001b[0m\n",
       "\u001b[0;31mDocstring:\u001b[0m Sets the initial values of the boolean network.\n",
       "\u001b[0;31mFile:\u001b[0m      ~/BNMPy/src/BNMPy/booleanNetwork.py\n",
       "\u001b[0;31mType:\u001b[0m      method\n"
      ]
     },
     "metadata": {},
     "output_type": "display_data"
    }
   ],
   "source": [
    "bn1.setInitialValues?"
   ]
  },
  {
   "cell_type": "code",
   "execution_count": null,
   "id": "129715b5-b17e-4d50-92db-98e60c1efdfa",
   "metadata": {},
   "outputs": [],
   "source": []
  }
 ],
 "metadata": {
  "kernelspec": {
   "display_name": "Python 3 (ipykernel)",
   "language": "python",
   "name": "python3"
  },
  "language_info": {
   "codemirror_mode": {
    "name": "ipython",
    "version": 3
   },
   "file_extension": ".py",
   "mimetype": "text/x-python",
   "name": "python",
   "nbconvert_exporter": "python",
   "pygments_lexer": "ipython3",
   "version": "3.10.6"
  }
 },
 "nbformat": 4,
 "nbformat_minor": 5
}
