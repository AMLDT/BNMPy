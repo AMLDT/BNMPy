{
 "cells": [
  {
   "cell_type": "markdown",
   "id": "53989e6f-ca01-4de0-bb18-76f5d8de6cb0",
   "metadata": {},
   "source": [
    "# Experimenting with BNMPy\n",
    "\n",
    "- loading boolean networks from equations/files\n",
    "- simulating boolean networks with and without noise\n",
    "- running networks with different initial conditions\n",
    "- plotting results\n",
    "- plotting the network using graphviz/dot?\n",
    "\n",
    "To test/update:\n",
    "- what if there are constant values in the string? allow 1 or 0 in the description string."
   ]
  },
  {
   "cell_type": "code",
   "execution_count": 1,
   "id": "13155d6b-a5ff-431b-bb7c-874b5f481714",
   "metadata": {},
   "outputs": [],
   "source": [
    "import BNMPy.booleanNetwork as bn\n",
    "from BNMPy import BMatrix"
   ]
  },
  {
   "cell_type": "markdown",
   "id": "a544134d-ff46-4520-b991-192441d94b03",
   "metadata": {},
   "source": [
    "## New features - constants in the description string"
   ]
  },
  {
   "cell_type": "code",
   "execution_count": 14,
   "id": "27ad25a3-8d16-4695-b4e0-f4a3dafb8ed6",
   "metadata": {},
   "outputs": [],
   "source": [
    "network = \"\"\"\n",
    "A1 = A1\n",
    "A2 = A2\n",
    "A3 = A1 & A2\n",
    "A4 = A1 | A2\n",
    "A5 = 1\n",
    "A6 = A1 | (1 & A2) | (A1 | 0)\n",
    "\"\"\""
   ]
  },
  {
   "cell_type": "code",
   "execution_count": 15,
   "id": "b81e244a-9e02-481d-a961-88a265b8a8bb",
   "metadata": {},
   "outputs": [
    {
     "name": "stdout",
     "output_type": "stream",
     "text": [
      "No initial state provided, using a random initial state\n"
     ]
    }
   ],
   "source": [
    "bn1 = BMatrix.load_network_from_string(network)"
   ]
  },
  {
   "cell_type": "code",
   "execution_count": 16,
   "id": "216ecdd0-03b7-49a6-945e-0cdcb464e2fa",
   "metadata": {},
   "outputs": [
    {
     "data": {
      "text/plain": [
       "<BNMPy.booleanNetwork.BooleanNetwork at 0x7fa2f4d44d00>"
      ]
     },
     "execution_count": 16,
     "metadata": {},
     "output_type": "execute_result"
    }
   ],
   "source": [
    "bn1"
   ]
  },
  {
   "cell_type": "code",
   "execution_count": 17,
   "id": "0964364e-a742-487e-8f32-2d6a10f11c96",
   "metadata": {},
   "outputs": [],
   "source": [
    "equations = [x.strip() for x in network.strip().split('\\n')]"
   ]
  },
  {
   "cell_type": "code",
   "execution_count": 18,
   "id": "73d34cc6-ede1-4471-adb7-00d08162eabf",
   "metadata": {},
   "outputs": [],
   "source": [
    "ngenes = len(equations)"
   ]
  },
  {
   "cell_type": "code",
   "execution_count": 19,
   "id": "8120d65d-8919-4cab-bc0b-c56ebbfb923f",
   "metadata": {},
   "outputs": [],
   "source": [
    "gene_dict = BMatrix.get_gene_dict(equations)"
   ]
  },
  {
   "cell_type": "code",
   "execution_count": 20,
   "id": "30aa1a73-f661-43a0-a868-9a66ebca6d2f",
   "metadata": {},
   "outputs": [
    {
     "data": {
      "text/plain": [
       "{'A1': 0, 'A2': 1, 'A3': 2, 'A4': 3, 'A5': 4, 'A6': 5}"
      ]
     },
     "execution_count": 20,
     "metadata": {},
     "output_type": "execute_result"
    }
   ],
   "source": [
    "gene_dict"
   ]
  },
  {
   "cell_type": "code",
   "execution_count": 21,
   "id": "0dcf88a5-e77e-4ef7-8b6c-a3cb76daed1b",
   "metadata": {},
   "outputs": [],
   "source": [
    "upstream_genes = BMatrix.get_upstream_genes(equations)"
   ]
  },
  {
   "cell_type": "code",
   "execution_count": 22,
   "id": "740c55fd-8a76-4e54-9c4a-cf06f789f1df",
   "metadata": {},
   "outputs": [
    {
     "data": {
      "text/plain": [
       "['A1', 'A2', 'A1 A2', 'A1 A2', '', 'A1 A2']"
      ]
     },
     "execution_count": 22,
     "metadata": {},
     "output_type": "execute_result"
    }
   ],
   "source": [
    "upstream_genes"
   ]
  },
  {
   "cell_type": "code",
   "execution_count": 23,
   "id": "6e8332ab-0e07-4b13-97ae-99fb210d5eae",
   "metadata": {},
   "outputs": [],
   "source": [
    "connectivity_matrix = BMatrix.get_connectivity_matrix(equations, upstream_genes, gene_dict)"
   ]
  },
  {
   "cell_type": "markdown",
   "id": "f692ae5d-ed51-4432-acca-0485734c1a50",
   "metadata": {},
   "source": [
    "## Simple networks"
   ]
  },
  {
   "cell_type": "code",
   "execution_count": 3,
   "id": "6b5f30e5-ba66-4112-ac9f-318de18f017b",
   "metadata": {},
   "outputs": [
    {
     "name": "stdout",
     "output_type": "stream",
     "text": [
      "No initial state provided, using a random initial state\n"
     ]
    }
   ],
   "source": [
    "bn1 = BMatrix.load_network_from_file('input_files/simple_network_test.txt')"
   ]
  },
  {
   "cell_type": "code",
   "execution_count": 4,
   "id": "08198baa-e745-4407-b802-39727026c8b0",
   "metadata": {},
   "outputs": [
    {
     "data": {
      "text/plain": [
       "array([1, 1, 0, 0], dtype=int8)"
      ]
     },
     "execution_count": 4,
     "metadata": {},
     "output_type": "execute_result"
    }
   ],
   "source": [
    "bn1.nodes"
   ]
  },
  {
   "cell_type": "code",
   "execution_count": 5,
   "id": "129715b5-b17e-4d50-92db-98e60c1efdfa",
   "metadata": {},
   "outputs": [
    {
     "data": {
      "text/plain": [
       "array([1, 1, 2, 2])"
      ]
     },
     "execution_count": 5,
     "metadata": {},
     "output_type": "execute_result"
    }
   ],
   "source": [
    "bn1.K"
   ]
  },
  {
   "cell_type": "code",
   "execution_count": 6,
   "id": "5269ec69-9a8f-49ee-8b98-a14f865785c7",
   "metadata": {},
   "outputs": [
    {
     "data": {
      "text/plain": [
       "4"
      ]
     },
     "execution_count": 6,
     "metadata": {},
     "output_type": "execute_result"
    }
   ],
   "source": [
    "bn1.N"
   ]
  },
  {
   "cell_type": "code",
   "execution_count": 7,
   "id": "09312b1a-5efd-4458-808e-05b11ea4a633",
   "metadata": {},
   "outputs": [
    {
     "data": {
      "text/plain": [
       "array([[ 0, -1],\n",
       "       [ 1, -1],\n",
       "       [ 1,  0],\n",
       "       [ 1,  0]])"
      ]
     },
     "execution_count": 7,
     "metadata": {},
     "output_type": "execute_result"
    }
   ],
   "source": [
    "bn1.varF"
   ]
  },
  {
   "cell_type": "code",
   "execution_count": 8,
   "id": "97850207-5fff-4a1e-bb4a-b33447bc5ece",
   "metadata": {},
   "outputs": [
    {
     "data": {
      "text/plain": [
       "array([[ 0,  1, -1, -1],\n",
       "       [ 0,  1, -1, -1],\n",
       "       [ 0,  0,  0,  1],\n",
       "       [ 0,  1,  1,  1]], dtype=int8)"
      ]
     },
     "execution_count": 8,
     "metadata": {},
     "output_type": "execute_result"
    }
   ],
   "source": [
    "bn1.F"
   ]
  },
  {
   "cell_type": "code",
   "execution_count": 9,
   "id": "8a35dcbc-7e06-40af-a67a-eb55ecb387d8",
   "metadata": {},
   "outputs": [],
   "source": [
    "network = \"\"\"\n",
    "A1 = A1\n",
    "A2 = A2\n",
    "A3 = A1 & A2\n",
    "A4 = A1 | A2\n",
    "\"\"\""
   ]
  },
  {
   "cell_type": "code",
   "execution_count": 10,
   "id": "faed5c90-1213-492d-845d-5de2b45f91fd",
   "metadata": {},
   "outputs": [],
   "source": [
    "bn1.setInitialValues([1, 1, 0, 0])"
   ]
  },
  {
   "cell_type": "code",
   "execution_count": 11,
   "id": "95175879-ff53-423b-a58e-0b4f2e2c688e",
   "metadata": {},
   "outputs": [
    {
     "data": {
      "text/plain": [
       "array([[1, 1, 0, 0],\n",
       "       [1, 1, 1, 1],\n",
       "       [1, 1, 1, 1],\n",
       "       [1, 1, 1, 1],\n",
       "       [1, 1, 1, 1],\n",
       "       [1, 1, 1, 1],\n",
       "       [1, 1, 1, 1],\n",
       "       [1, 1, 1, 1],\n",
       "       [1, 1, 1, 1],\n",
       "       [1, 1, 1, 1],\n",
       "       [1, 1, 1, 1]], dtype=int8)"
      ]
     },
     "execution_count": 11,
     "metadata": {},
     "output_type": "execute_result"
    }
   ],
   "source": [
    "bn1.update(10)"
   ]
  },
  {
   "cell_type": "code",
   "execution_count": 12,
   "id": "6ce69783-6c46-4862-8625-73b43659b523",
   "metadata": {},
   "outputs": [],
   "source": [
    "bn1.setInitialValues([1, 0, 0, 0])"
   ]
  },
  {
   "cell_type": "code",
   "execution_count": 13,
   "id": "67d511fb-8b0f-4cde-b29d-b2a907088347",
   "metadata": {},
   "outputs": [
    {
     "data": {
      "text/plain": [
       "array([[1, 0, 0, 0],\n",
       "       [1, 0, 0, 1]], dtype=int8)"
      ]
     },
     "execution_count": 13,
     "metadata": {},
     "output_type": "execute_result"
    }
   ],
   "source": [
    "bn1.update(1)"
   ]
  },
  {
   "cell_type": "code",
   "execution_count": 23,
   "id": "ae7da106-44d1-4f93-840a-8e581fa80a74",
   "metadata": {},
   "outputs": [],
   "source": [
    "network2 = \"\"\"A1 = A1\n",
    "A2 = !A1\n",
    "A3 = A3\n",
    "B1 = !A3\n",
    "A4 = A1 | !B1\n",
    "A5 = ( A4 & ( A2 | A3 ))\n",
    "A6 = ((A1|B1) & (A3|A4))\"\"\""
   ]
  },
  {
   "cell_type": "code",
   "execution_count": 24,
   "id": "a1525fce-04fb-4efc-a1e6-177a719a8f2b",
   "metadata": {},
   "outputs": [
    {
     "name": "stdout",
     "output_type": "stream",
     "text": [
      "No initial state provided, using a random initial state\n"
     ]
    }
   ],
   "source": [
    "bn2 = BMatrix.load_network_from_string(network2)"
   ]
  },
  {
   "cell_type": "code",
   "execution_count": 16,
   "id": "f3975085-2a03-4924-bd2f-2de95fa839c5",
   "metadata": {},
   "outputs": [
    {
     "data": {
      "text/plain": [
       "array([1, 0, 0, 1, 1, 0, 0], dtype=int8)"
      ]
     },
     "execution_count": 16,
     "metadata": {},
     "output_type": "execute_result"
    }
   ],
   "source": [
    "bn2.nodes"
   ]
  },
  {
   "cell_type": "code",
   "execution_count": 17,
   "id": "e7886013-58b1-44a2-9d51-ff758d8b2a7b",
   "metadata": {},
   "outputs": [
    {
     "data": {
      "text/plain": [
       "{'A1': 0, 'A2': 1, 'A3': 2, 'B1': 3, 'A4': 4, 'A5': 5, 'A6': 6}"
      ]
     },
     "execution_count": 17,
     "metadata": {},
     "output_type": "execute_result"
    }
   ],
   "source": [
    "bn2.nodeDict"
   ]
  },
  {
   "cell_type": "code",
   "execution_count": 18,
   "id": "c25ca142-81fa-43e8-b197-f2fcdae9dca5",
   "metadata": {},
   "outputs": [
    {
     "data": {
      "text/plain": [
       "array([[ 0,  1, -1, -1, -1, -1, -1, -1, -1, -1, -1, -1, -1, -1, -1, -1],\n",
       "       [ 1,  0, -1, -1, -1, -1, -1, -1, -1, -1, -1, -1, -1, -1, -1, -1],\n",
       "       [ 0,  1, -1, -1, -1, -1, -1, -1, -1, -1, -1, -1, -1, -1, -1, -1],\n",
       "       [ 1,  0, -1, -1, -1, -1, -1, -1, -1, -1, -1, -1, -1, -1, -1, -1],\n",
       "       [ 1,  1,  0,  1, -1, -1, -1, -1, -1, -1, -1, -1, -1, -1, -1, -1],\n",
       "       [ 0,  0,  0,  1,  0,  0,  1,  1, -1, -1, -1, -1, -1, -1, -1, -1],\n",
       "       [ 0,  0,  0,  0,  0,  1,  1,  1,  0,  1,  1,  1,  0,  1,  1,  1]],\n",
       "      dtype=int8)"
      ]
     },
     "execution_count": 18,
     "metadata": {},
     "output_type": "execute_result"
    }
   ],
   "source": [
    "bn2.F"
   ]
  },
  {
   "cell_type": "code",
   "execution_count": 19,
   "id": "ef1d043c-8d3d-4f17-bdbb-d1ac8b90438f",
   "metadata": {},
   "outputs": [
    {
     "data": {
      "text/plain": [
       "array([[ 0, -1, -1, -1],\n",
       "       [ 0, -1, -1, -1],\n",
       "       [ 2, -1, -1, -1],\n",
       "       [ 2, -1, -1, -1],\n",
       "       [ 3,  0, -1, -1],\n",
       "       [ 1,  4,  2, -1],\n",
       "       [ 3,  0,  4,  2]])"
      ]
     },
     "execution_count": 19,
     "metadata": {},
     "output_type": "execute_result"
    }
   ],
   "source": [
    "bn2.varF"
   ]
  },
  {
   "cell_type": "code",
   "execution_count": null,
   "id": "daa3001e-bb2a-490d-a333-d52153a619b6",
   "metadata": {},
   "outputs": [],
   "source": []
  }
 ],
 "metadata": {
  "kernelspec": {
   "display_name": "Python 3 (ipykernel)",
   "language": "python",
   "name": "python3"
  },
  "language_info": {
   "codemirror_mode": {
    "name": "ipython",
    "version": 3
   },
   "file_extension": ".py",
   "mimetype": "text/x-python",
   "name": "python",
   "nbconvert_exporter": "python",
   "pygments_lexer": "ipython3",
   "version": "3.10.6"
  }
 },
 "nbformat": 4,
 "nbformat_minor": 5
}
