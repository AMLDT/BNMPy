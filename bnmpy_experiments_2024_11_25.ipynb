{
 "cells": [
  {
   "cell_type": "markdown",
   "id": "53989e6f-ca01-4de0-bb18-76f5d8de6cb0",
   "metadata": {},
   "source": [
    "# Experimenting with BNMPy\n",
    "\n",
    "- loading boolean networks from equations/files\n",
    "- simulating boolean networks with and without noise\n",
    "- running networks with different initial conditions\n",
    "- plotting results\n",
    "- plotting the network using graphviz/dot?\n",
    "\n",
    "To test/update:\n",
    "- what if there are constant values in the string? allow 1 or 0 in the description string."
   ]
  },
  {
   "cell_type": "code",
   "execution_count": 1,
   "id": "13155d6b-a5ff-431b-bb7c-874b5f481714",
   "metadata": {},
   "outputs": [],
   "source": [
    "import BNMPy.booleanNetwork as bn\n",
    "from BNMPy import BMatrix"
   ]
  },
  {
   "cell_type": "code",
   "execution_count": 3,
   "id": "6b5f30e5-ba66-4112-ac9f-318de18f017b",
   "metadata": {},
   "outputs": [
    {
     "name": "stdout",
     "output_type": "stream",
     "text": [
      "No initial state provided, using a random initial state\n"
     ]
    }
   ],
   "source": [
    "bn1 = BMatrix.load_network_from_file('input_files/simple_network_test.txt')"
   ]
  },
  {
   "cell_type": "code",
   "execution_count": 4,
   "id": "08198baa-e745-4407-b802-39727026c8b0",
   "metadata": {},
   "outputs": [
    {
     "data": {
      "text/plain": [
       "array([1, 1, 0, 0], dtype=int8)"
      ]
     },
     "execution_count": 4,
     "metadata": {},
     "output_type": "execute_result"
    }
   ],
   "source": [
    "bn1.nodes"
   ]
  },
  {
   "cell_type": "code",
   "execution_count": 5,
   "id": "129715b5-b17e-4d50-92db-98e60c1efdfa",
   "metadata": {},
   "outputs": [
    {
     "data": {
      "text/plain": [
       "array([1, 1, 2, 2])"
      ]
     },
     "execution_count": 5,
     "metadata": {},
     "output_type": "execute_result"
    }
   ],
   "source": [
    "bn1.K"
   ]
  },
  {
   "cell_type": "code",
   "execution_count": 6,
   "id": "5269ec69-9a8f-49ee-8b98-a14f865785c7",
   "metadata": {},
   "outputs": [
    {
     "data": {
      "text/plain": [
       "4"
      ]
     },
     "execution_count": 6,
     "metadata": {},
     "output_type": "execute_result"
    }
   ],
   "source": [
    "bn1.N"
   ]
  },
  {
   "cell_type": "code",
   "execution_count": 7,
   "id": "09312b1a-5efd-4458-808e-05b11ea4a633",
   "metadata": {},
   "outputs": [
    {
     "data": {
      "text/plain": [
       "array([[ 0, -1],\n",
       "       [ 1, -1],\n",
       "       [ 1,  0],\n",
       "       [ 1,  0]])"
      ]
     },
     "execution_count": 7,
     "metadata": {},
     "output_type": "execute_result"
    }
   ],
   "source": [
    "bn1.varF"
   ]
  },
  {
   "cell_type": "code",
   "execution_count": 8,
   "id": "97850207-5fff-4a1e-bb4a-b33447bc5ece",
   "metadata": {},
   "outputs": [
    {
     "data": {
      "text/plain": [
       "array([[ 0,  1, -1, -1],\n",
       "       [ 0,  1, -1, -1],\n",
       "       [ 0,  0,  0,  1],\n",
       "       [ 0,  1,  1,  1]], dtype=int8)"
      ]
     },
     "execution_count": 8,
     "metadata": {},
     "output_type": "execute_result"
    }
   ],
   "source": [
    "bn1.F"
   ]
  },
  {
   "cell_type": "code",
   "execution_count": 9,
   "id": "8a35dcbc-7e06-40af-a67a-eb55ecb387d8",
   "metadata": {},
   "outputs": [],
   "source": [
    "network = \"\"\"\n",
    "A1 = A1\n",
    "A2 = A2\n",
    "A3 = A1 & A2\n",
    "A4 = A1 | A2\n",
    "\"\"\""
   ]
  },
  {
   "cell_type": "code",
   "execution_count": 10,
   "id": "faed5c90-1213-492d-845d-5de2b45f91fd",
   "metadata": {},
   "outputs": [],
   "source": [
    "bn1.setInitialValues([1, 1, 0, 0])"
   ]
  },
  {
   "cell_type": "code",
   "execution_count": 11,
   "id": "95175879-ff53-423b-a58e-0b4f2e2c688e",
   "metadata": {},
   "outputs": [
    {
     "data": {
      "text/plain": [
       "array([[1, 1, 0, 0],\n",
       "       [1, 1, 1, 1],\n",
       "       [1, 1, 1, 1],\n",
       "       [1, 1, 1, 1],\n",
       "       [1, 1, 1, 1],\n",
       "       [1, 1, 1, 1],\n",
       "       [1, 1, 1, 1],\n",
       "       [1, 1, 1, 1],\n",
       "       [1, 1, 1, 1],\n",
       "       [1, 1, 1, 1],\n",
       "       [1, 1, 1, 1]], dtype=int8)"
      ]
     },
     "execution_count": 11,
     "metadata": {},
     "output_type": "execute_result"
    }
   ],
   "source": [
    "bn1.update(10)"
   ]
  },
  {
   "cell_type": "code",
   "execution_count": 12,
   "id": "6ce69783-6c46-4862-8625-73b43659b523",
   "metadata": {},
   "outputs": [],
   "source": [
    "bn1.setInitialValues([1, 0, 0, 0])"
   ]
  },
  {
   "cell_type": "code",
   "execution_count": 13,
   "id": "67d511fb-8b0f-4cde-b29d-b2a907088347",
   "metadata": {},
   "outputs": [
    {
     "data": {
      "text/plain": [
       "array([[1, 0, 0, 0],\n",
       "       [1, 0, 0, 1]], dtype=int8)"
      ]
     },
     "execution_count": 13,
     "metadata": {},
     "output_type": "execute_result"
    }
   ],
   "source": [
    "bn1.update(1)"
   ]
  },
  {
   "cell_type": "code",
   "execution_count": 23,
   "id": "ae7da106-44d1-4f93-840a-8e581fa80a74",
   "metadata": {},
   "outputs": [],
   "source": [
    "network2 = \"\"\"A1 = A1\n",
    "A2 = !A1\n",
    "A3 = A3\n",
    "B1 = !A3\n",
    "A4 = A1 | !B1\n",
    "A5 = ( A4 & ( A2 | A3 ))\n",
    "A6 = ((A1|B1) & (A3|A4))\"\"\""
   ]
  },
  {
   "cell_type": "code",
   "execution_count": 24,
   "id": "a1525fce-04fb-4efc-a1e6-177a719a8f2b",
   "metadata": {},
   "outputs": [
    {
     "name": "stdout",
     "output_type": "stream",
     "text": [
      "No initial state provided, using a random initial state\n"
     ]
    }
   ],
   "source": [
    "bn2 = BMatrix.load_network_from_string(network2)"
   ]
  },
  {
   "cell_type": "code",
   "execution_count": 16,
   "id": "f3975085-2a03-4924-bd2f-2de95fa839c5",
   "metadata": {},
   "outputs": [
    {
     "data": {
      "text/plain": [
       "array([1, 0, 0, 1, 1, 0, 0], dtype=int8)"
      ]
     },
     "execution_count": 16,
     "metadata": {},
     "output_type": "execute_result"
    }
   ],
   "source": [
    "bn2.nodes"
   ]
  },
  {
   "cell_type": "code",
   "execution_count": 17,
   "id": "e7886013-58b1-44a2-9d51-ff758d8b2a7b",
   "metadata": {},
   "outputs": [
    {
     "data": {
      "text/plain": [
       "{'A1': 0, 'A2': 1, 'A3': 2, 'B1': 3, 'A4': 4, 'A5': 5, 'A6': 6}"
      ]
     },
     "execution_count": 17,
     "metadata": {},
     "output_type": "execute_result"
    }
   ],
   "source": [
    "bn2.nodeDict"
   ]
  },
  {
   "cell_type": "code",
   "execution_count": 18,
   "id": "c25ca142-81fa-43e8-b197-f2fcdae9dca5",
   "metadata": {},
   "outputs": [
    {
     "data": {
      "text/plain": [
       "array([[ 0,  1, -1, -1, -1, -1, -1, -1, -1, -1, -1, -1, -1, -1, -1, -1],\n",
       "       [ 1,  0, -1, -1, -1, -1, -1, -1, -1, -1, -1, -1, -1, -1, -1, -1],\n",
       "       [ 0,  1, -1, -1, -1, -1, -1, -1, -1, -1, -1, -1, -1, -1, -1, -1],\n",
       "       [ 1,  0, -1, -1, -1, -1, -1, -1, -1, -1, -1, -1, -1, -1, -1, -1],\n",
       "       [ 1,  1,  0,  1, -1, -1, -1, -1, -1, -1, -1, -1, -1, -1, -1, -1],\n",
       "       [ 0,  0,  0,  1,  0,  0,  1,  1, -1, -1, -1, -1, -1, -1, -1, -1],\n",
       "       [ 0,  0,  0,  0,  0,  1,  1,  1,  0,  1,  1,  1,  0,  1,  1,  1]],\n",
       "      dtype=int8)"
      ]
     },
     "execution_count": 18,
     "metadata": {},
     "output_type": "execute_result"
    }
   ],
   "source": [
    "bn2.F"
   ]
  },
  {
   "cell_type": "code",
   "execution_count": 19,
   "id": "ef1d043c-8d3d-4f17-bdbb-d1ac8b90438f",
   "metadata": {},
   "outputs": [
    {
     "data": {
      "text/plain": [
       "array([[ 0, -1, -1, -1],\n",
       "       [ 0, -1, -1, -1],\n",
       "       [ 2, -1, -1, -1],\n",
       "       [ 2, -1, -1, -1],\n",
       "       [ 3,  0, -1, -1],\n",
       "       [ 1,  4,  2, -1],\n",
       "       [ 3,  0,  4,  2]])"
      ]
     },
     "execution_count": 19,
     "metadata": {},
     "output_type": "execute_result"
    }
   ],
   "source": [
    "bn2.varF"
   ]
  },
  {
   "cell_type": "code",
   "execution_count": null,
   "id": "daa3001e-bb2a-490d-a333-d52153a619b6",
   "metadata": {},
   "outputs": [],
   "source": []
  }
 ],
 "metadata": {
  "kernelspec": {
   "display_name": "Python 3 (ipykernel)",
   "language": "python",
   "name": "python3"
  },
  "language_info": {
   "codemirror_mode": {
    "name": "ipython",
    "version": 3
   },
   "file_extension": ".py",
   "mimetype": "text/x-python",
   "name": "python",
   "nbconvert_exporter": "python",
   "pygments_lexer": "ipython3",
   "version": "3.10.6"
  }
 },
 "nbformat": 4,
 "nbformat_minor": 5
}
